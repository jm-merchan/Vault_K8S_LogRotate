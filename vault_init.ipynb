{
 "cells": [
  {
   "cell_type": "markdown",
   "metadata": {},
   "source": [
    "### Based on https://developer.hashicorp.com/vault/tutorials/kubernetes/kubernetes-minikube-tls"
   ]
  },
  {
   "cell_type": "code",
   "execution_count": null,
   "metadata": {},
   "outputs": [],
   "source": [
    "%%bash\n",
    "minikube delete -p dc1"
   ]
  },
  {
   "cell_type": "code",
   "execution_count": null,
   "metadata": {},
   "outputs": [],
   "source": [
    "%%bash\n",
    "# Initialize docker first\n",
    "#sleep 30\n",
    "minikube start -p dc1"
   ]
  },
  {
   "cell_type": "code",
   "execution_count": null,
   "metadata": {},
   "outputs": [],
   "source": [
    "%%bash\n",
    "minikube status -p dc1"
   ]
  },
  {
   "cell_type": "code",
   "execution_count": null,
   "metadata": {},
   "outputs": [],
   "source": [
    "%%bash\n",
    "helm repo add hashicorp https://helm.releases.hashicorp.com\n",
    "helm repo update"
   ]
  },
  {
   "cell_type": "code",
   "execution_count": 306,
   "metadata": {},
   "outputs": [],
   "source": [
    "%%bash\n",
    "rm -rf /tmp/vault\n",
    "mkdir /tmp/vault"
   ]
  },
  {
   "cell_type": "code",
   "execution_count": 307,
   "metadata": {},
   "outputs": [
    {
     "name": "stderr",
     "output_type": "stream",
     "text": [
      "Generating RSA private key, 2048 bit long modulus\n",
      "....+++++\n",
      "..................................................+++++\n",
      "e is 65537 (0x10001)\n"
     ]
    },
    {
     "name": "stdout",
     "output_type": "stream",
     "text": [
      "certificatesigningrequest.certificates.k8s.io/vault.svc created\n"
     ]
    }
   ],
   "source": [
    "%%bash\n",
    "export VAULT_K8S_NAMESPACE=\"vault\" \\\n",
    "export VAULT_HELM_RELEASE_NAME=\"vault\" \\\n",
    "export VAULT_SERVICE_NAME=\"vault-internal\" \\\n",
    "export K8S_CLUSTER_NAME=\"cluster.local\" \\\n",
    "export WORKDIR=/tmp/vault\n",
    "\n",
    "openssl genrsa -out ${WORKDIR}/vault.key 2048\n",
    "cat > ${WORKDIR}/vault-csr.conf <<EOF\n",
    "[req]\n",
    "default_bits = 2048\n",
    "prompt = no\n",
    "encrypt_key = yes\n",
    "default_md = sha256\n",
    "distinguished_name = kubelet_serving\n",
    "req_extensions = v3_req\n",
    "[ kubelet_serving ]\n",
    "O = system:nodes\n",
    "CN = system:node:*.${VAULT_HELM_RELEASE_NAME}.svc.${K8S_CLUSTER_NAME}\n",
    "[ v3_req ]\n",
    "basicConstraints = CA:FALSE\n",
    "keyUsage = nonRepudiation, digitalSignature, keyEncipherment, dataEncipherment\n",
    "extendedKeyUsage = serverAuth, clientAuth\n",
    "subjectAltName = @alt_names\n",
    "[alt_names]\n",
    "DNS.1 = *.${VAULT_SERVICE_NAME}\n",
    "DNS.2 = *.${VAULT_SERVICE_NAME}.${VAULT_HELM_RELEASE_NAME}.svc.${K8S_CLUSTER_NAME}\n",
    "DNS.3 = *.${VAULT_HELM_RELEASE_NAME}\n",
    "DNS.4 = *.${VAULT_HELM_RELEASE_NAME}.svc.${K8S_CLUSTER_NAME}\n",
    "IP.1 = 127.0.0.1\n",
    "EOF\n",
    "\n",
    "openssl req -new -key ${WORKDIR}/vault.key -out ${WORKDIR}/vault.csr -config ${WORKDIR}/vault-csr.conf\n",
    "\n",
    "\n",
    "cat > ${WORKDIR}/csr.yaml <<EOF\n",
    "apiVersion: certificates.k8s.io/v1\n",
    "kind: CertificateSigningRequest\n",
    "metadata:\n",
    "   name: vault.svc\n",
    "spec:\n",
    "   signerName: kubernetes.io/kubelet-serving\n",
    "   expirationSeconds: 8640000\n",
    "   request: $(cat ${WORKDIR}/vault.csr|base64|tr -d '\\n')\n",
    "   usages:\n",
    "   - digital signature\n",
    "   - key encipherment\n",
    "   - server auth\n",
    "EOF\n",
    "\n",
    "kubectl create -f ${WORKDIR}/csr.yaml\n"
   ]
  },
  {
   "cell_type": "code",
   "execution_count": 308,
   "metadata": {},
   "outputs": [
    {
     "name": "stdout",
     "output_type": "stream",
     "text": [
      "certificatesigningrequest.certificates.k8s.io/vault.svc approved\n"
     ]
    }
   ],
   "source": [
    "%%bash\n",
    "kubectl certificate approve vault.svc"
   ]
  },
  {
   "cell_type": "code",
   "execution_count": 309,
   "metadata": {},
   "outputs": [
    {
     "name": "stdout",
     "output_type": "stream",
     "text": [
      "NAME        AGE   SIGNERNAME                      REQUESTOR       REQUESTEDDURATION   CONDITION\n",
      "vault.svc   5s    kubernetes.io/kubelet-serving   minikube-user   100d                Approved,Issued\n"
     ]
    }
   ],
   "source": [
    "%%bash\n",
    "kubectl get csr vault.svc"
   ]
  },
  {
   "cell_type": "code",
   "execution_count": 310,
   "metadata": {},
   "outputs": [
    {
     "name": "stdout",
     "output_type": "stream",
     "text": [
      "env: WORKDIR=/tmp/vault\n",
      "env: VAULT_K8S_NAMESPACE=vault\n",
      "env: VAULT_HELM_RELEASE_NAME=vault\n",
      "env: VAULT_SERVICE_NAME=vault-internal\n",
      "env: K8S_CLUSTER_NAME=cluster.local\n"
     ]
    }
   ],
   "source": [
    "%env WORKDIR=/tmp/vault\n",
    "%env VAULT_K8S_NAMESPACE=vault\n",
    "%env VAULT_HELM_RELEASE_NAME=vault\n",
    "%env VAULT_SERVICE_NAME=vault-internal \n",
    "%env K8S_CLUSTER_NAME=cluster.local "
   ]
  },
  {
   "cell_type": "code",
   "execution_count": 311,
   "metadata": {},
   "outputs": [
    {
     "name": "stdout",
     "output_type": "stream",
     "text": [
      "namespace/vault created\n",
      "secret/vault-ha-tls created\n"
     ]
    }
   ],
   "source": [
    "%%bash\n",
    "kubectl get csr vault.svc -o jsonpath='{.status.certificate}' | openssl base64 -d -A -out ${WORKDIR}/vault.crt\n",
    "kubectl config view \\\n",
    "--raw \\\n",
    "--minify \\\n",
    "--flatten \\\n",
    "-o jsonpath='{.clusters[].cluster.certificate-authority-data}' \\\n",
    "| base64 -d > ${WORKDIR}/vault.ca\n",
    "\n",
    "kubectl create namespace $VAULT_K8S_NAMESPACE\n",
    "\n",
    "kubectl create secret generic vault-ha-tls \\\n",
    "   -n $VAULT_K8S_NAMESPACE \\\n",
    "   --from-file=vault.key=${WORKDIR}/vault.key \\\n",
    "   --from-file=vault.crt=${WORKDIR}/vault.crt \\\n",
    "   --from-file=vault.ca=${WORKDIR}/vault.ca\n"
   ]
  },
  {
   "cell_type": "markdown",
   "metadata": {},
   "source": [
    "### Adding enterprise license based on https://developer.hashicorp.com/vault/docs/platform/k8s/helm/enterprise"
   ]
  },
  {
   "cell_type": "code",
   "execution_count": 312,
   "metadata": {},
   "outputs": [
    {
     "name": "stdout",
     "output_type": "stream",
     "text": [
      "secret/vault-ent-license created\n"
     ]
    }
   ],
   "source": [
    "%%bash \n",
    "secret=$(cat /Users/jose/Demo/Vault_ADP/ADP_PlayGround/vault.hclic)\n",
    "kubectl create secret generic vault-ent-license --from-literal=\"license=${secret}\" -n $VAULT_K8S_NAMESPACE\n"
   ]
  },
  {
   "cell_type": "code",
   "execution_count": 313,
   "metadata": {},
   "outputs": [
    {
     "name": "stdout",
     "output_type": "stream",
     "text": [
      "configmap/logrotate-config created\n"
     ]
    }
   ],
   "source": [
    "%%bash\n",
    "kubectl apply -f config-map-logrotate.yaml -n vault"
   ]
  },
  {
   "cell_type": "code",
   "execution_count": 314,
   "metadata": {},
   "outputs": [],
   "source": [
    "%%bash\n",
    "cat > ${WORKDIR}/overrides.yaml <<EOF\n",
    "global:\n",
    "   enabled: true\n",
    "   tlsDisable: false # Disabling TLS to avoid issues when connecting to Vault via port forwarding\n",
    "injector:\n",
    "   enabled: true\n",
    "server:\n",
    "# config.yaml\n",
    "   image:\n",
    "      repository: hashicorp/vault-enterprise\n",
    "      tag: 1.14.0-ent\n",
    "   enterpriseLicense:\n",
    "      secretName: vault-ent-license\n",
    "\n",
    "   extraEnvironmentVars:\n",
    "      VAULT_CACERT: /vault/userconfig/vault-ha-tls/vault.ca\n",
    "      VAULT_TLSCERT: /vault/userconfig/vault-ha-tls/vault.crt\n",
    "      VAULT_TLSKEY: /vault/userconfig/vault-ha-tls/vault.key\n",
    "   volumes:\n",
    "      - name: userconfig-vault-ha-tls\n",
    "        secret:\n",
    "         defaultMode: 420\n",
    "         secretName: vault-ha-tls\n",
    "      - name: logrotate-config\n",
    "        configMap:\n",
    "          name: logrotate-config\n",
    "   volumeMounts:\n",
    "      - mountPath: /vault/userconfig/vault-ha-tls\n",
    "        name: userconfig-vault-ha-tls\n",
    "        readOnly: true\n",
    "   standalone:\n",
    "      enabled: false\n",
    "   \n",
    "   affinity: \"\"\n",
    "   auditStorage:\n",
    "      enabled: true\n",
    "\n",
    "   ha:\n",
    "      enabled: true\n",
    "      replicas: 3\n",
    "      raft:\n",
    "         enabled: true\n",
    "         setNodeId: true\n",
    "         config: |\n",
    "            ui = true\n",
    "            listener \"tcp\" {\n",
    "               tls_disable = 0 # Disabling TLS to avoid issues when connecting to Vault via port forwarding\n",
    "               address = \"[::]:8200\"\n",
    "               cluster_address = \"[::]:8201\"\n",
    "               tls_cert_file = \"/vault/userconfig/vault-ha-tls/vault.crt\"\n",
    "               tls_key_file  = \"/vault/userconfig/vault-ha-tls/vault.key\"\n",
    "               tls_client_ca_file = \"/vault/userconfig/vault-ha-tls/vault.ca\"\n",
    "               # api_address = \"https://vault-active.vault.svc.cluster.local:8200\"\n",
    "            }\n",
    "            storage \"raft\" {\n",
    "               path = \"/vault/data\"\n",
    "            \n",
    "               retry_join {\n",
    "                  auto_join             = \"provider=k8s namespace=vault label_selector=\\\"component=server,app.kubernetes.io/name=vault\\\"\"\n",
    "                  auto_join_scheme      = \"https\"\n",
    "                  leader_ca_cert_file   = \"/vault/userconfig/vault-ha-tls/vault.ca\"\n",
    "                  leader_tls_servername = \"vault-0.vault-internal\" #Tiene que matchear una SAN del certificado\n",
    "               }\n",
    "            \n",
    "            }\n",
    "            disable_mlock = true\n",
    "            service_registration \"kubernetes\" {}\n",
    "   \n",
    "   # HUP signal for logrotate\n",
    "   shareProcessNamespace: true\n",
    " \n",
    "   # And finally the container\n",
    "   extraContainers:\n",
    "     - name: auditlog-rotator\n",
    "       image: josemerchan/vault-logrotate:0.0.1\n",
    "       imagePullPolicy: Always\n",
    "       env:\n",
    "         - name: CRONTAB\n",
    "           value: \"*/5 * * * *\"\n",
    "       volumeMounts:\n",
    "         - mountPath: /etc/logrotate.conf\n",
    "           name: logrotate-config\n",
    "           subPath: logrotate.conf\n",
    "           readOnly: true\n",
    "         - mountPath: /vault/audit\n",
    "           name: audit\n",
    "EOF\n"
   ]
  },
  {
   "cell_type": "code",
   "execution_count": 315,
   "metadata": {},
   "outputs": [
    {
     "name": "stdout",
     "output_type": "stream",
     "text": [
      "NAME: vault\n",
      "LAST DEPLOYED: Fri Jul 21 16:16:59 2023\n",
      "NAMESPACE: vault\n",
      "STATUS: deployed\n",
      "REVISION: 1\n",
      "NOTES:\n",
      "Thank you for installing HashiCorp Vault!\n",
      "\n",
      "Now that you have deployed Vault, you should look over the docs on using\n",
      "Vault with Kubernetes available here:\n",
      "\n",
      "https://www.vaultproject.io/docs/\n",
      "\n",
      "\n",
      "Your release is named vault. To learn more about the release, try:\n",
      "\n",
      "  $ helm status vault\n",
      "  $ helm get manifest vault\n"
     ]
    }
   ],
   "source": [
    "%%bash\n",
    "helm install -n $VAULT_K8S_NAMESPACE $VAULT_HELM_RELEASE_NAME hashicorp/vault -f ${WORKDIR}/overrides.yaml"
   ]
  },
  {
   "cell_type": "code",
   "execution_count": 318,
   "metadata": {},
   "outputs": [
    {
     "name": "stdout",
     "output_type": "stream",
     "text": [
      "NAME                                    READY   STATUS    RESTARTS   AGE\n",
      "vault-0                                 1/2     Running   0          32s\n",
      "vault-1                                 1/2     Running   0          32s\n",
      "vault-2                                 1/2     Running   0          32s\n",
      "vault-agent-injector-6fdf6cd4d6-lk78m   1/1     Running   0          33s\n",
      "LAST SEEN   TYPE      REASON                  OBJECT                                       MESSAGE\n",
      "33s         Normal    SuccessfulCreate        statefulset/vault                            create Claim data-vault-0 Pod vault-0 in StatefulSet vault success\n",
      "33s         Normal    NoPods                  poddisruptionbudget/vault                    No matching pods found\n",
      "33s         Normal    Scheduled               pod/vault-agent-injector-6fdf6cd4d6-lk78m    Successfully assigned vault/vault-agent-injector-6fdf6cd4d6-lk78m to dc1\n",
      "33s         Normal    ScalingReplicaSet       deployment/vault-agent-injector              Scaled up replica set vault-agent-injector-6fdf6cd4d6 to 1\n",
      "33s         Normal    SuccessfulCreate        replicaset/vault-agent-injector-6fdf6cd4d6   Created pod: vault-agent-injector-6fdf6cd4d6-lk78m\n",
      "32s         Normal    Created                 pod/vault-agent-injector-6fdf6cd4d6-lk78m    Created container sidecar-injector\n",
      "32s         Warning   FailedScheduling        pod/vault-0                                  0/1 nodes are available: pod has unbound immediate PersistentVolumeClaims. preemption: 0/1 nodes are available: 1 No preemption victims found for incoming pod..\n",
      "33s         Normal    Provisioning            persistentvolumeclaim/data-vault-0           External provisioner is provisioning volume for claim \"vault/data-vault-0\"\n",
      "32s         Normal    ExternalProvisioning    persistentvolumeclaim/data-vault-0           waiting for a volume to be created, either by external provisioner \"k8s.io/minikube-hostpath\" or manually created by system administrator\n",
      "32s         Normal    ProvisioningSucceeded   persistentvolumeclaim/data-vault-0           Successfully provisioned volume pvc-ce0dbd10-c163-4634-a9e3-880be3f08142\n",
      "32s         Normal    Provisioning            persistentvolumeclaim/data-vault-1           External provisioner is provisioning volume for claim \"vault/data-vault-1\"\n",
      "32s         Normal    ExternalProvisioning    persistentvolumeclaim/data-vault-1           waiting for a volume to be created, either by external provisioner \"k8s.io/minikube-hostpath\" or manually created by system administrator\n",
      "32s         Normal    Provisioning            persistentvolumeclaim/data-vault-2           External provisioner is provisioning volume for claim \"vault/data-vault-2\"\n",
      "32s         Normal    ExternalProvisioning    persistentvolumeclaim/data-vault-2           waiting for a volume to be created, either by external provisioner \"k8s.io/minikube-hostpath\" or manually created by system administrator\n",
      "32s         Warning   FailedScheduling        pod/vault-2                                  0/1 nodes are available: pod has unbound immediate PersistentVolumeClaims. preemption: 0/1 nodes are available: 1 No preemption victims found for incoming pod..\n",
      "32s         Normal    Pulled                  pod/vault-agent-injector-6fdf6cd4d6-lk78m    Container image \"hashicorp/vault-k8s:1.2.1\" already present on machine\n",
      "32s         Normal    Provisioning            persistentvolumeclaim/audit-vault-2          External provisioner is provisioning volume for claim \"vault/audit-vault-2\"\n",
      "32s         Normal    Started                 pod/vault-agent-injector-6fdf6cd4d6-lk78m    Started container sidecar-injector\n",
      "32s         Normal    ExternalProvisioning    persistentvolumeclaim/audit-vault-2          waiting for a volume to be created, either by external provisioner \"k8s.io/minikube-hostpath\" or manually created by system administrator\n",
      "32s         Normal    ExternalProvisioning    persistentvolumeclaim/audit-vault-1          waiting for a volume to be created, either by external provisioner \"k8s.io/minikube-hostpath\" or manually created by system administrator\n",
      "32s         Normal    Provisioning            persistentvolumeclaim/audit-vault-1          External provisioner is provisioning volume for claim \"vault/audit-vault-1\"\n",
      "32s         Normal    SuccessfulCreate        statefulset/vault                            create Pod vault-2 in StatefulSet vault successful\n",
      "32s         Normal    SuccessfulCreate        statefulset/vault                            create Claim audit-vault-2 Pod vault-2 in StatefulSet vault success\n",
      "32s         Normal    SuccessfulCreate        statefulset/vault                            create Claim data-vault-2 Pod vault-2 in StatefulSet vault success\n",
      "32s         Normal    SuccessfulCreate        statefulset/vault                            create Pod vault-1 in StatefulSet vault successful\n",
      "32s         Normal    SuccessfulCreate        statefulset/vault                            create Claim data-vault-1 Pod vault-1 in StatefulSet vault success\n",
      "32s         Normal    SuccessfulCreate        statefulset/vault                            create Claim audit-vault-1 Pod vault-1 in StatefulSet vault success\n",
      "32s         Normal    SuccessfulCreate        statefulset/vault                            create Pod vault-0 in StatefulSet vault successful\n",
      "33s         Normal    SuccessfulCreate        statefulset/vault                            create Claim audit-vault-0 Pod vault-0 in StatefulSet vault success\n",
      "32s         Warning   FailedScheduling        pod/vault-1                                  0/1 nodes are available: pod has unbound immediate PersistentVolumeClaims. preemption: 0/1 nodes are available: 1 No preemption victims found for incoming pod..\n",
      "32s         Normal    ProvisioningSucceeded   persistentvolumeclaim/audit-vault-0          Successfully provisioned volume pvc-26524159-07b2-4804-8c06-98219d5614be\n",
      "32s         Normal    Provisioning            persistentvolumeclaim/audit-vault-0          External provisioner is provisioning volume for claim \"vault/audit-vault-0\"\n",
      "32s         Normal    ExternalProvisioning    persistentvolumeclaim/audit-vault-0          waiting for a volume to be created, either by external provisioner \"k8s.io/minikube-hostpath\" or manually created by system administrator\n",
      "31s         Normal    Scheduled               pod/vault-1                                  Successfully assigned vault/vault-1 to dc1\n",
      "31s         Normal    Scheduled               pod/vault-0                                  Successfully assigned vault/vault-0 to dc1\n",
      "32s         Normal    ProvisioningSucceeded   persistentvolumeclaim/data-vault-2           Successfully provisioned volume pvc-bfd023c7-7c8e-4cae-bf31-92601f6f488f\n",
      "32s         Normal    ProvisioningSucceeded   persistentvolumeclaim/data-vault-1           Successfully provisioned volume pvc-796e43fd-e187-48af-ab9c-0376c211c986\n",
      "32s         Normal    ProvisioningSucceeded   persistentvolumeclaim/audit-vault-2          Successfully provisioned volume pvc-883adf1c-00c9-4dc9-bf4d-d60b600f63cb\n",
      "32s         Normal    ProvisioningSucceeded   persistentvolumeclaim/audit-vault-1          Successfully provisioned volume pvc-77eb8e64-8b97-43c9-a427-df7d41b60708\n",
      "31s         Normal    Scheduled               pod/vault-2                                  Successfully assigned vault/vault-2 to dc1\n",
      "29s         Normal    Pulling                 pod/vault-1                                  Pulling image \"hashicorp/vault-enterprise:1.14.0-ent\"\n",
      "28s         Normal    Pulling                 pod/vault-2                                  Pulling image \"hashicorp/vault-enterprise:1.14.0-ent\"\n",
      "26s         Normal    Pulling                 pod/vault-0                                  Pulling image \"hashicorp/vault-enterprise:1.14.0-ent\"\n",
      "15s         Normal    Pulled                  pod/vault-1                                  Successfully pulled image \"hashicorp/vault-enterprise:1.14.0-ent\" in 14.469539049s (14.469637674s including waiting)\n",
      "14s         Normal    Started                 pod/vault-1                                  Started container vault\n",
      "14s         Normal    Pulling                 pod/vault-1                                  Pulling image \"josemerchan/vault-logrotate:0.0.1\"\n",
      "14s         Normal    Created                 pod/vault-1                                  Created container vault\n",
      "13s         Normal    Pulled                  pod/vault-2                                  Successfully pulled image \"hashicorp/vault-enterprise:1.14.0-ent\" in 1.345974043s (14.363470674s including waiting)\n",
      "13s         Normal    Started                 pod/vault-2                                  Started container vault\n",
      "13s         Normal    Pulling                 pod/vault-2                                  Pulling image \"josemerchan/vault-logrotate:0.0.1\"\n",
      "13s         Normal    Created                 pod/vault-2                                  Created container vault\n",
      "12s         Normal    Started                 pod/vault-0                                  Started container vault\n",
      "12s         Normal    Pulling                 pod/vault-0                                  Pulling image \"josemerchan/vault-logrotate:0.0.1\"\n",
      "12s         Normal    Created                 pod/vault-0                                  Created container vault\n",
      "12s         Normal    Pulled                  pod/vault-0                                  Successfully pulled image \"hashicorp/vault-enterprise:1.14.0-ent\" in 1.421081001s (14.288418048s including waiting)\n",
      "9s          Normal    Started                 pod/vault-1                                  Started container auditlog-rotator\n",
      "9s          Normal    Created                 pod/vault-1                                  Created container auditlog-rotator\n",
      "9s          Normal    Pulled                  pod/vault-1                                  Successfully pulled image \"josemerchan/vault-logrotate:0.0.1\" in 2.832104376s (5.386604211s including waiting)\n",
      "8s          Normal    Started                 pod/vault-2                                  Started container auditlog-rotator\n",
      "4s          Warning   Unhealthy               pod/vault-1                                  Readiness probe failed: Key                Value...\n",
      "8s          Normal    Created                 pod/vault-2                                  Created container auditlog-rotator\n",
      "8s          Normal    Pulled                  pod/vault-2                                  Successfully pulled image \"josemerchan/vault-logrotate:0.0.1\" in 1.301247668s (5.473600253s including waiting)\n",
      "6s          Normal    Started                 pod/vault-0                                  Started container auditlog-rotator\n",
      "6s          Normal    Created                 pod/vault-0                                  Created container auditlog-rotator\n",
      "6s          Normal    Pulled                  pod/vault-0                                  Successfully pulled image \"josemerchan/vault-logrotate:0.0.1\" in 1.372077376s (5.425691877s including waiting)\n",
      "3s          Warning   Unhealthy               pod/vault-2                                  Readiness probe failed: Key                Value...\n",
      "1s          Warning   Unhealthy               pod/vault-0                                  Readiness probe failed: Key                Value...\n"
     ]
    }
   ],
   "source": [
    "%%bash\n",
    "kubectl -n $VAULT_K8S_NAMESPACE get pods\n",
    "kubectl get events -n $VAULT_K8S_NAMESPACE --sort-by='.metadata.creationTimestamp'"
   ]
  },
  {
   "cell_type": "code",
   "execution_count": 319,
   "metadata": {},
   "outputs": [],
   "source": [
    "%%bash\n",
    "kubectl exec -n $VAULT_K8S_NAMESPACE vault-0 -c vault -- vault operator init \\\n",
    "    -key-shares=1 \\\n",
    "    -key-threshold=1 \\\n",
    "    -format=json > ${WORKDIR}/cluster-keys.json\n"
   ]
  },
  {
   "cell_type": "code",
   "execution_count": 320,
   "metadata": {},
   "outputs": [
    {
     "name": "stdout",
     "output_type": "stream",
     "text": [
      "z05OcdEEQW1x3PAkOclOb0oxItxAbrxf24he5IZDoPE=\n"
     ]
    }
   ],
   "source": [
    "%%bash\n",
    "jq -r \".unseal_keys_b64[]\" ${WORKDIR}/cluster-keys.json\n",
    "VAULT_UNSEAL_KEY=$(jq -r \".unseal_keys_b64[]\" ${WORKDIR}/cluster-keys.json)"
   ]
  },
  {
   "cell_type": "markdown",
   "metadata": {},
   "source": [
    "## Initialize Containers"
   ]
  },
  {
   "cell_type": "code",
   "execution_count": 321,
   "metadata": {},
   "outputs": [
    {
     "name": "stdout",
     "output_type": "stream",
     "text": [
      "Key                     Value\n",
      "---                     -----\n",
      "Seal Type               shamir\n",
      "Initialized             true\n",
      "Sealed                  false\n",
      "Total Shares            1\n",
      "Threshold               1\n",
      "Version                 1.14.0+ent\n",
      "Build Date              2023-06-19T16:20:54Z\n",
      "Storage Type            raft\n",
      "Cluster Name            vault-cluster-6446f817\n",
      "Cluster ID              47041f01-c10b-d262-462d-23f7ede70441\n",
      "HA Enabled              true\n",
      "HA Cluster              https://vault-0.vault-internal:8201\n",
      "HA Mode                 active\n",
      "Active Since            2023-07-21T14:18:02.691862836Z\n",
      "Raft Committed Index    79\n",
      "Raft Applied Index      79\n",
      "Last WAL                32\n"
     ]
    }
   ],
   "source": [
    "%%bash\n",
    "kubectl exec -n $VAULT_K8S_NAMESPACE vault-0 -c vault -- vault operator unseal $(jq -r \".unseal_keys_b64[]\" ${WORKDIR}/cluster-keys.json)"
   ]
  },
  {
   "cell_type": "code",
   "execution_count": 322,
   "metadata": {},
   "outputs": [
    {
     "name": "stderr",
     "output_type": "stream",
     "text": [
      "Unable to use a TTY - input is not a terminal or the right kind of file\n"
     ]
    },
    {
     "name": "stdout",
     "output_type": "stream",
     "text": [
      "Key                Value\n",
      "---                -----\n",
      "Seal Type          shamir\n",
      "Initialized        true\n",
      "Sealed             true\n",
      "Total Shares       1\n",
      "Threshold          1\n",
      "Unseal Progress    0/1\n",
      "Unseal Nonce       n/a\n",
      "Version            1.14.0+ent\n",
      "Build Date         2023-06-19T16:20:54Z\n",
      "Storage Type       raft\n",
      "HA Enabled         true\n"
     ]
    }
   ],
   "source": [
    "%%bash\n",
    "kubectl exec -n $VAULT_K8S_NAMESPACE -ti vault-1 -c vault -- vault operator unseal $(jq -r \".unseal_keys_b64[]\" ${WORKDIR}/cluster-keys.json)"
   ]
  },
  {
   "cell_type": "code",
   "execution_count": 323,
   "metadata": {},
   "outputs": [
    {
     "name": "stderr",
     "output_type": "stream",
     "text": [
      "Unable to use a TTY - input is not a terminal or the right kind of file\n"
     ]
    },
    {
     "name": "stdout",
     "output_type": "stream",
     "text": [
      "Key                Value\n",
      "---                -----\n",
      "Seal Type          shamir\n",
      "Initialized        true\n",
      "Sealed             true\n",
      "Total Shares       1\n",
      "Threshold          1\n",
      "Unseal Progress    0/1\n",
      "Unseal Nonce       n/a\n",
      "Version            1.14.0+ent\n",
      "Build Date         2023-06-19T16:20:54Z\n",
      "Storage Type       raft\n",
      "HA Enabled         true\n"
     ]
    }
   ],
   "source": [
    "%%bash\n",
    "kubectl exec -n $VAULT_K8S_NAMESPACE -ti vault-2 -c vault -- vault operator unseal $(jq -r \".unseal_keys_b64[]\" ${WORKDIR}/cluster-keys.json)"
   ]
  },
  {
   "cell_type": "code",
   "execution_count": 324,
   "metadata": {},
   "outputs": [
    {
     "name": "stderr",
     "output_type": "stream",
     "text": [
      "Unable to use a TTY - input is not a terminal or the right kind of file\n"
     ]
    },
    {
     "name": "stdout",
     "output_type": "stream",
     "text": [
      "Key                     Value\n",
      "---                     -----\n",
      "Seal Type               shamir\n",
      "Initialized             true\n",
      "Sealed                  false\n",
      "Total Shares            1\n",
      "Threshold               1\n",
      "Version                 1.14.0+ent\n",
      "Build Date              2023-06-19T16:20:54Z\n",
      "Storage Type            raft\n",
      "Cluster Name            vault-cluster-6446f817\n",
      "Cluster ID              47041f01-c10b-d262-462d-23f7ede70441\n",
      "HA Enabled              true\n",
      "HA Cluster              https://vault-0.vault-internal:8201\n",
      "HA Mode                 active\n",
      "Active Since            2023-07-21T14:18:02.691862836Z\n",
      "Raft Committed Index    99\n",
      "Raft Applied Index      99\n",
      "Last WAL                35\n"
     ]
    }
   ],
   "source": [
    "%%bash\n",
    "kubectl exec -n $VAULT_K8S_NAMESPACE -ti vault-0 -c vault -- vault status"
   ]
  },
  {
   "cell_type": "code",
   "execution_count": 325,
   "metadata": {},
   "outputs": [
    {
     "name": "stderr",
     "output_type": "stream",
     "text": [
      "Unable to use a TTY - input is not a terminal or the right kind of file\n"
     ]
    },
    {
     "name": "stdout",
     "output_type": "stream",
     "text": [
      "Key                                    Value\n",
      "---                                    -----\n",
      "Seal Type                              shamir\n",
      "Initialized                            true\n",
      "Sealed                                 false\n",
      "Total Shares                           1\n",
      "Threshold                              1\n",
      "Version                                1.14.0+ent\n",
      "Build Date                             2023-06-19T16:20:54Z\n",
      "Storage Type                           raft\n",
      "Cluster Name                           vault-cluster-6446f817\n",
      "Cluster ID                             47041f01-c10b-d262-462d-23f7ede70441\n",
      "HA Enabled                             true\n",
      "HA Cluster                             https://vault-0.vault-internal:8201\n",
      "HA Mode                                standby\n",
      "Active Node Address                    https://10.244.0.67:8200\n",
      "Performance Standby Node               true\n",
      "Performance Standby Last Remote WAL    35\n",
      "Raft Committed Index                   101\n",
      "Raft Applied Index                     101\n"
     ]
    }
   ],
   "source": [
    "%%bash\n",
    "kubectl exec -n $VAULT_K8S_NAMESPACE -ti vault-1 -c vault -- vault status"
   ]
  },
  {
   "cell_type": "code",
   "execution_count": 326,
   "metadata": {},
   "outputs": [
    {
     "name": "stderr",
     "output_type": "stream",
     "text": [
      "Unable to use a TTY - input is not a terminal or the right kind of file\n"
     ]
    },
    {
     "name": "stdout",
     "output_type": "stream",
     "text": [
      "Key                                    Value\n",
      "---                                    -----\n",
      "Seal Type                              shamir\n",
      "Initialized                            true\n",
      "Sealed                                 false\n",
      "Total Shares                           1\n",
      "Threshold                              1\n",
      "Version                                1.14.0+ent\n",
      "Build Date                             2023-06-19T16:20:54Z\n",
      "Storage Type                           raft\n",
      "Cluster Name                           vault-cluster-6446f817\n",
      "Cluster ID                             47041f01-c10b-d262-462d-23f7ede70441\n",
      "HA Enabled                             true\n",
      "HA Cluster                             https://vault-0.vault-internal:8201\n",
      "HA Mode                                standby\n",
      "Active Node Address                    https://10.244.0.67:8200\n",
      "Performance Standby Node               true\n",
      "Performance Standby Last Remote WAL    35\n",
      "Raft Committed Index                   103\n",
      "Raft Applied Index                     103\n"
     ]
    }
   ],
   "source": [
    "%%bash\n",
    "kubectl exec -n $VAULT_K8S_NAMESPACE -ti vault-2 -c vault -- vault status"
   ]
  },
  {
   "cell_type": "markdown",
   "metadata": {},
   "source": [
    "## Get Root Token and port forward to Vault on port 8200"
   ]
  },
  {
   "cell_type": "code",
   "execution_count": 327,
   "metadata": {},
   "outputs": [
    {
     "name": "stdout",
     "output_type": "stream",
     "text": [
      "hvs.DHb7N6blLL0vg9NeZDfaKAwz\n"
     ]
    }
   ],
   "source": [
    "%%bash\n",
    "cat ${WORKDIR}/cluster-keys.json | jq -r \".root_token\""
   ]
  },
  {
   "cell_type": "code",
   "execution_count": 329,
   "metadata": {},
   "outputs": [
    {
     "name": "stderr",
     "output_type": "stream",
     "text": [
      "Unable to use a TTY - input is not a terminal or the right kind of file\n"
     ]
    },
    {
     "name": "stdout",
     "output_type": "stream",
     "text": [
      "Success! You are now authenticated. The token information displayed below\n",
      "is already stored in the token helper. You do NOT need to run \"vault login\"\n",
      "again. Future Vault requests will automatically use this token.\n",
      "\n",
      "Key                  Value\n",
      "---                  -----\n",
      "token                hvs.DHb7N6blLL0vg9NeZDfaKAwz\n",
      "token_accessor       qS5UAnmwQaPgmv8eoQ0WKFaz\n",
      "token_duration       ∞\n",
      "token_renewable      false\n",
      "token_policies       [\"root\"]\n",
      "identity_policies    []\n",
      "policies             [\"root\"]\n"
     ]
    }
   ],
   "source": [
    "%%bash\n",
    "kubectl exec -ti vault-0 -n vault -c vault --  vault login hvs.DHb7N6blLL0vg9NeZDfaKAwz"
   ]
  },
  {
   "cell_type": "code",
   "execution_count": 330,
   "metadata": {},
   "outputs": [
    {
     "name": "stderr",
     "output_type": "stream",
     "text": [
      "Unable to use a TTY - input is not a terminal or the right kind of file\n"
     ]
    },
    {
     "name": "stdout",
     "output_type": "stream",
     "text": [
      "Success! Enabled the file audit device at: file/\n"
     ]
    }
   ],
   "source": [
    "%%bash\n",
    "kubectl exec -ti vault-0 -n vault -c vault --  vault audit enable file file_path=/vault/audit/vault.log"
   ]
  },
  {
   "cell_type": "code",
   "execution_count": 331,
   "metadata": {},
   "outputs": [
    {
     "name": "stderr",
     "output_type": "stream",
     "text": [
      "Unable to use a TTY - input is not a terminal or the right kind of file\n"
     ]
    },
    {
     "name": "stdout",
     "output_type": "stream",
     "text": [
      "{\"time\":\"2023-07-21T14:18:37.481134422Z\",\"type\":\"request\",\"auth\":{\"token_type\":\"default\"},\"request\":{\"id\":\"68b6d614-a641-b9d2-58a7-bd13f2d95b1c\",\"operation\":\"update\",\"namespace\":{\"id\":\"root\"},\"path\":\"sys/audit/test\"}}\n",
      "{\"time\":\"2023-07-21T14:18:37.489565005Z\",\"type\":\"response\",\"auth\":{\"client_token\":\"hmac-sha256:a470da8845279c71f5c32f5429d3c2a6d35e968a87252324ea04ca0e13d9d0d7\",\"accessor\":\"hmac-sha256:e9c8a7e997b2761cd5798b574fe4ee4565ec8e4bc44fcf899f91d2f9832d4644\",\"display_name\":\"root\",\"policies\":[\"root\"],\"token_policies\":[\"root\"],\"policy_results\":{\"allowed\":true,\"granting_policies\":[{\"name\":\"root\",\"namespace_id\":\"root\",\"type\":\"acl\"}]},\"token_type\":\"service\",\"token_issue_time\":\"2023-07-21T14:17:53Z\"},\"request\":{\"id\":\"bdca6df9-580f-20bc-a1c8-cbebdd135937\",\"client_id\":\"0DHqvq2D77kL2/JTPSZkTMJbkFVmUu0TzMi0jiXcFy8=\",\"operation\":\"update\",\"mount_point\":\"sys/\",\"mount_type\":\"system\",\"mount_accessor\":\"system_3efc35b5\",\"mount_running_version\":\"v1.14.0+builtin.vault\",\"mount_class\":\"secret\",\"client_token\":\"hmac-sha256:a470da8845279c71f5c32f5429d3c2a6d35e968a87252324ea04ca0e13d9d0d7\",\"client_token_accessor\":\"hmac-sha256:e9c8a7e997b2761cd5798b574fe4ee4565ec8e4bc44fcf899f91d2f9832d4644\",\"namespace\":{\"id\":\"root\"},\"path\":\"sys/audit/file\",\"data\":{\"description\":\"hmac-sha256:76b84644fe933102a9f1dd959bb0bf5ce26208ad3f4e74f6246ad7f3d4c75ee8\",\"local\":false,\"options\":{\"file_path\":\"hmac-sha256:a46f0722d877c7802f84ff241459321d29128192d9b494112f081ee24474a942\"},\"type\":\"hmac-sha256:1aad78a9fe49cff7abb2c6aeb3904d2cbd8f50ba6fa1544d052b6ec716922c15\"},\"remote_address\":\"127.0.0.1\",\"remote_port\":42668},\"response\":{\"mount_point\":\"sys/\",\"mount_type\":\"system\",\"mount_accessor\":\"system_3efc35b5\",\"mount_running_plugin_version\":\"v1.14.0+builtin.vault\",\"mount_class\":\"secret\"}}\n"
     ]
    }
   ],
   "source": [
    "%%bash\n",
    "kubectl exec -ti vault-0 -n vault -c vault --  cat /vault/audit/vault_audit.log"
   ]
  },
  {
   "cell_type": "raw",
   "metadata": {},
   "source": [
    "## Log via kubectl exec to the pod and run a while loop\n",
    "kubectl exec -i -t vault-0 -n vault -c vault -- /bin/sh\n",
    "while true; do vault secrets list;date ; sleep 0.1; done > /dev/null"
   ]
  },
  {
   "cell_type": "code",
   "execution_count": 339,
   "metadata": {},
   "outputs": [
    {
     "name": "stderr",
     "output_type": "stream",
     "text": [
      "Unable to use a TTY - input is not a terminal or the right kind of file\n"
     ]
    },
    {
     "name": "stdout",
     "output_type": "stream",
     "text": [
      "-rw-------    1 vault    vault       4.8M Jul 21 14:22 /vault/audit/vault_audit.log\n"
     ]
    }
   ],
   "source": [
    "%%bash\n",
    "# Size in MB\n",
    "kubectl exec -ti vault-0 -n vault -c vault --  ls -lh /vault/audit/vault_audit.log"
   ]
  },
  {
   "cell_type": "code",
   "execution_count": null,
   "metadata": {},
   "outputs": [],
   "source": [
    "%%bash\n",
    "#kubectl -n $VAULT_K8S_NAMESPACE get service vault\n",
    "kubectl -n vault port-forward service/vault 8200:8200"
   ]
  },
  {
   "cell_type": "raw",
   "metadata": {},
   "source": [
    "# Clean up\n",
    "helm uninstall vault -n vault\n",
    "kubectl delete pvc -n vault --all \n",
    "kubectl delete ns vault \n",
    "kubectl delete csr vault.svc\n",
    "# minikube delete -p dc1"
   ]
  }
 ],
 "metadata": {
  "kernelspec": {
   "display_name": "Python 3 (ipykernel)",
   "language": "python",
   "name": "python3"
  },
  "language_info": {
   "codemirror_mode": {
    "name": "ipython",
    "version": 3
   },
   "file_extension": ".py",
   "mimetype": "text/x-python",
   "name": "python",
   "nbconvert_exporter": "python",
   "pygments_lexer": "ipython3",
   "version": "3.9.6"
  },
  "vscode": {
   "interpreter": {
    "hash": "31f2aee4e71d21fbe5cf8b01ff0e069b9275f58929596ceb00d14d90e3e16cd6"
   }
  }
 },
 "nbformat": 4,
 "nbformat_minor": 2
}
