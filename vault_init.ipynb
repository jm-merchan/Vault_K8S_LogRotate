{
 "cells": [
  {
   "cell_type": "markdown",
   "metadata": {},
   "source": [
    "### Based on https://developer.hashicorp.com/vault/tutorials/kubernetes/kubernetes-minikube-tls"
   ]
  },
  {
   "cell_type": "code",
   "execution_count": null,
   "metadata": {},
   "outputs": [],
   "source": [
    "%%bash\n",
    "minikube delete -p dc1"
   ]
  },
  {
   "cell_type": "code",
   "execution_count": null,
   "metadata": {},
   "outputs": [],
   "source": [
    "%%bash\n",
    "# Initialize docker first\n",
    "#sleep 30\n",
    "minikube start -p dc1"
   ]
  },
  {
   "cell_type": "code",
   "execution_count": null,
   "metadata": {},
   "outputs": [],
   "source": [
    "%%bash\n",
    "minikube status -p dc1"
   ]
  },
  {
   "cell_type": "code",
   "execution_count": null,
   "metadata": {},
   "outputs": [],
   "source": [
    "%%bash\n",
    "helm repo add hashicorp https://helm.releases.hashicorp.com\n",
    "helm repo update"
   ]
  },
  {
   "cell_type": "code",
   "execution_count": null,
   "metadata": {},
   "outputs": [],
   "source": [
    "%%bash\n",
    "rm -rf /tmp/vault\n",
    "mkdir /tmp/vault"
   ]
  },
  {
   "cell_type": "code",
   "execution_count": null,
   "metadata": {},
   "outputs": [],
   "source": [
    "%%bash\n",
    "export VAULT_K8S_NAMESPACE=\"vault\" \\\n",
    "export VAULT_HELM_RELEASE_NAME=\"vault\" \\\n",
    "export VAULT_SERVICE_NAME=\"vault-internal\" \\\n",
    "export K8S_CLUSTER_NAME=\"cluster.local\" \\\n",
    "export WORKDIR=/tmp/vault\n",
    "\n",
    "openssl genrsa -out ${WORKDIR}/vault.key 2048\n",
    "cat > ${WORKDIR}/vault-csr.conf <<EOF\n",
    "[req]\n",
    "default_bits = 2048\n",
    "prompt = no\n",
    "encrypt_key = yes\n",
    "default_md = sha256\n",
    "distinguished_name = kubelet_serving\n",
    "req_extensions = v3_req\n",
    "[ kubelet_serving ]\n",
    "O = system:nodes\n",
    "CN = system:node:*.${VAULT_HELM_RELEASE_NAME}.svc.${K8S_CLUSTER_NAME}\n",
    "[ v3_req ]\n",
    "basicConstraints = CA:FALSE\n",
    "keyUsage = nonRepudiation, digitalSignature, keyEncipherment, dataEncipherment\n",
    "extendedKeyUsage = serverAuth, clientAuth\n",
    "subjectAltName = @alt_names\n",
    "[alt_names]\n",
    "DNS.1 = *.${VAULT_SERVICE_NAME}\n",
    "DNS.2 = *.${VAULT_SERVICE_NAME}.${VAULT_HELM_RELEASE_NAME}.svc.${K8S_CLUSTER_NAME}\n",
    "DNS.3 = *.${VAULT_HELM_RELEASE_NAME}\n",
    "DNS.4 = *.${VAULT_HELM_RELEASE_NAME}.svc.${K8S_CLUSTER_NAME}\n",
    "IP.1 = 127.0.0.1\n",
    "EOF\n",
    "\n",
    "openssl req -new -key ${WORKDIR}/vault.key -out ${WORKDIR}/vault.csr -config ${WORKDIR}/vault-csr.conf\n",
    "\n",
    "\n",
    "cat > ${WORKDIR}/csr.yaml <<EOF\n",
    "apiVersion: certificates.k8s.io/v1\n",
    "kind: CertificateSigningRequest\n",
    "metadata:\n",
    "   name: vault.svc\n",
    "spec:\n",
    "   signerName: kubernetes.io/kubelet-serving\n",
    "   expirationSeconds: 8640000\n",
    "   request: $(cat ${WORKDIR}/vault.csr|base64|tr -d '\\n')\n",
    "   usages:\n",
    "   - digital signature\n",
    "   - key encipherment\n",
    "   - server auth\n",
    "EOF\n",
    "\n",
    "kubectl create -f ${WORKDIR}/csr.yaml\n"
   ]
  },
  {
   "cell_type": "code",
   "execution_count": null,
   "metadata": {},
   "outputs": [],
   "source": [
    "%%bash\n",
    "kubectl certificate approve vault.svc"
   ]
  },
  {
   "cell_type": "code",
   "execution_count": null,
   "metadata": {},
   "outputs": [],
   "source": [
    "%%bash\n",
    "kubectl get csr vault.svc"
   ]
  },
  {
   "cell_type": "code",
   "execution_count": null,
   "metadata": {},
   "outputs": [],
   "source": [
    "%env WORKDIR=/tmp/vault\n",
    "%env VAULT_K8S_NAMESPACE=vault\n",
    "%env VAULT_HELM_RELEASE_NAME=vault\n",
    "%env VAULT_SERVICE_NAME=vault-internal \n",
    "%env K8S_CLUSTER_NAME=cluster.local "
   ]
  },
  {
   "cell_type": "code",
   "execution_count": null,
   "metadata": {},
   "outputs": [],
   "source": [
    "%%bash\n",
    "kubectl get csr vault.svc -o jsonpath='{.status.certificate}' | openssl base64 -d -A -out ${WORKDIR}/vault.crt\n",
    "kubectl config view \\\n",
    "--raw \\\n",
    "--minify \\\n",
    "--flatten \\\n",
    "-o jsonpath='{.clusters[].cluster.certificate-authority-data}' \\\n",
    "| base64 -d > ${WORKDIR}/vault.ca\n",
    "\n",
    "kubectl create namespace $VAULT_K8S_NAMESPACE\n",
    "\n",
    "kubectl create secret generic vault-ha-tls \\\n",
    "   -n $VAULT_K8S_NAMESPACE \\\n",
    "   --from-file=vault.key=${WORKDIR}/vault.key \\\n",
    "   --from-file=vault.crt=${WORKDIR}/vault.crt \\\n",
    "   --from-file=vault.ca=${WORKDIR}/vault.ca\n"
   ]
  },
  {
   "cell_type": "markdown",
   "metadata": {},
   "source": [
    "### Adding enterprise license based on https://developer.hashicorp.com/vault/docs/platform/k8s/helm/enterprise"
   ]
  },
  {
   "cell_type": "code",
   "execution_count": null,
   "metadata": {},
   "outputs": [],
   "source": [
    "%%bash \n",
    "secret=$(cat /Users/jose/Demo/Vault_ADP/ADP_PlayGround/vault.hclic)\n",
    "kubectl create secret generic vault-ent-license --from-literal=\"license=${secret}\" -n $VAULT_K8S_NAMESPACE\n"
   ]
  },
  {
   "cell_type": "code",
   "execution_count": null,
   "metadata": {},
   "outputs": [],
   "source": [
    "%%bash\n",
    "kubectl apply -f config-map-logrotate.yaml -n vault"
   ]
  },
  {
   "cell_type": "code",
   "execution_count": null,
   "metadata": {},
   "outputs": [],
   "source": [
    "%%bash\n",
    "cat > ${WORKDIR}/overrides.yaml <<EOF\n",
    "global:\n",
    "   enabled: true\n",
    "   tlsDisable: false # Disabling TLS to avoid issues when connecting to Vault via port forwarding\n",
    "injector:\n",
    "   enabled: true\n",
    "server:\n",
    "# config.yaml\n",
    "   image:\n",
    "      repository: hashicorp/vault-enterprise\n",
    "      tag: 1.14.0-ent\n",
    "   enterpriseLicense:\n",
    "      secretName: vault-ent-license\n",
    "\n",
    "   extraEnvironmentVars:\n",
    "      VAULT_CACERT: /vault/userconfig/vault-ha-tls/vault.ca\n",
    "      VAULT_TLSCERT: /vault/userconfig/vault-ha-tls/vault.crt\n",
    "      VAULT_TLSKEY: /vault/userconfig/vault-ha-tls/vault.key\n",
    "   volumes:\n",
    "      - name: userconfig-vault-ha-tls\n",
    "        secret:\n",
    "         defaultMode: 420\n",
    "         secretName: vault-ha-tls\n",
    "      - name: logrotate-config\n",
    "        configMap:\n",
    "          name: logrotate-config\n",
    "   volumeMounts:\n",
    "      - mountPath: /vault/userconfig/vault-ha-tls\n",
    "        name: userconfig-vault-ha-tls\n",
    "        readOnly: true\n",
    "   standalone:\n",
    "      enabled: false\n",
    "   \n",
    "   affinity: \"\"\n",
    "   auditStorage:\n",
    "      enabled: true\n",
    "\n",
    "   ha:\n",
    "      enabled: true\n",
    "      replicas: 3\n",
    "      raft:\n",
    "         enabled: true\n",
    "         setNodeId: true\n",
    "         config: |\n",
    "            ui = true\n",
    "            listener \"tcp\" {\n",
    "               tls_disable = 0 # Disabling TLS to avoid issues when connecting to Vault via port forwarding\n",
    "               address = \"[::]:8200\"\n",
    "               cluster_address = \"[::]:8201\"\n",
    "               tls_cert_file = \"/vault/userconfig/vault-ha-tls/vault.crt\"\n",
    "               tls_key_file  = \"/vault/userconfig/vault-ha-tls/vault.key\"\n",
    "               tls_client_ca_file = \"/vault/userconfig/vault-ha-tls/vault.ca\"\n",
    "               # api_address = \"https://vault-active.vault.svc.cluster.local:8200\"\n",
    "            }\n",
    "            storage \"raft\" {\n",
    "               path = \"/vault/data\"\n",
    "            \n",
    "               retry_join {\n",
    "                  auto_join             = \"provider=k8s namespace=vault label_selector=\\\"component=server,app.kubernetes.io/name=vault\\\"\"\n",
    "                  auto_join_scheme      = \"https\"\n",
    "                  leader_ca_cert_file   = \"/vault/userconfig/vault-ha-tls/vault.ca\"\n",
    "                  leader_tls_servername = \"vault-0.vault-internal\" #Tiene que matchear una SAN del certificado\n",
    "               }\n",
    "            \n",
    "            }\n",
    "            disable_mlock = true\n",
    "            service_registration \"kubernetes\" {}\n",
    "   \n",
    "   # HUP signal for logrotate\n",
    "   shareProcessNamespace: true\n",
    " \n",
    "   # And finally the container\n",
    "   extraContainers:\n",
    "     - name: auditlog-rotator\n",
    "       image: josemerchan/vault-logrotate:0.0.1\n",
    "       imagePullPolicy: Always\n",
    "       env:\n",
    "         - name: CRONTAB\n",
    "           value: \"*/5 * * * *\"\n",
    "       volumeMounts:\n",
    "         - mountPath: /etc/logrotate.conf\n",
    "           name: logrotate-config\n",
    "           subPath: logrotate.conf\n",
    "           readOnly: true\n",
    "         - mountPath: /vault/audit\n",
    "           name: audit\n",
    "EOF\n"
   ]
  },
  {
   "cell_type": "code",
   "execution_count": null,
   "metadata": {},
   "outputs": [],
   "source": [
    "%%bash\n",
    "helm install -n $VAULT_K8S_NAMESPACE $VAULT_HELM_RELEASE_NAME hashicorp/vault -f ${WORKDIR}/overrides.yaml"
   ]
  },
  {
   "cell_type": "code",
   "execution_count": null,
   "metadata": {},
   "outputs": [],
   "source": [
    "%%bash\n",
    "kubectl -n $VAULT_K8S_NAMESPACE get pods\n",
    "kubectl get events -n $VAULT_K8S_NAMESPACE --sort-by='.metadata.creationTimestamp'"
   ]
  },
  {
   "cell_type": "code",
   "execution_count": null,
   "metadata": {},
   "outputs": [],
   "source": [
    "%%bash\n",
    "kubectl exec -n $VAULT_K8S_NAMESPACE vault-0 -c vault -- vault operator init \\\n",
    "    -key-shares=1 \\\n",
    "    -key-threshold=1 \\\n",
    "    -format=json > ${WORKDIR}/cluster-keys.json\n"
   ]
  },
  {
   "cell_type": "code",
   "execution_count": null,
   "metadata": {},
   "outputs": [],
   "source": [
    "%%bash\n",
    "jq -r \".unseal_keys_b64[]\" ${WORKDIR}/cluster-keys.json\n",
    "VAULT_UNSEAL_KEY=$(jq -r \".unseal_keys_b64[]\" ${WORKDIR}/cluster-keys.json)"
   ]
  },
  {
   "cell_type": "markdown",
   "metadata": {},
   "source": [
    "## Initialize Containers"
   ]
  },
  {
   "cell_type": "code",
   "execution_count": null,
   "metadata": {},
   "outputs": [],
   "source": [
    "%%bash\n",
    "kubectl exec -n $VAULT_K8S_NAMESPACE vault-0 -c vault -- vault operator unseal $(jq -r \".unseal_keys_b64[]\" ${WORKDIR}/cluster-keys.json)"
   ]
  },
  {
   "cell_type": "code",
   "execution_count": null,
   "metadata": {},
   "outputs": [],
   "source": [
    "%%bash\n",
    "kubectl exec -n $VAULT_K8S_NAMESPACE -ti vault-1 -c vault -- vault operator unseal $(jq -r \".unseal_keys_b64[]\" ${WORKDIR}/cluster-keys.json)"
   ]
  },
  {
   "cell_type": "code",
   "execution_count": null,
   "metadata": {},
   "outputs": [],
   "source": [
    "%%bash\n",
    "kubectl exec -n $VAULT_K8S_NAMESPACE -ti vault-2 -c vault -- vault operator unseal $(jq -r \".unseal_keys_b64[]\" ${WORKDIR}/cluster-keys.json)"
   ]
  },
  {
   "cell_type": "code",
   "execution_count": null,
   "metadata": {},
   "outputs": [],
   "source": [
    "%%bash\n",
    "kubectl exec -n $VAULT_K8S_NAMESPACE -ti vault-0 -c vault -- vault status"
   ]
  },
  {
   "cell_type": "code",
   "execution_count": null,
   "metadata": {},
   "outputs": [],
   "source": [
    "%%bash\n",
    "kubectl exec -n $VAULT_K8S_NAMESPACE -ti vault-1 -c vault -- vault status"
   ]
  },
  {
   "cell_type": "code",
   "execution_count": null,
   "metadata": {},
   "outputs": [],
   "source": [
    "%%bash\n",
    "kubectl exec -n $VAULT_K8S_NAMESPACE -ti vault-2 -c vault -- vault status"
   ]
  },
  {
   "cell_type": "markdown",
   "metadata": {},
   "source": [
    "## Get Root Token and port forward to Vault on port 8200"
   ]
  },
  {
   "cell_type": "code",
   "execution_count": null,
   "metadata": {},
   "outputs": [],
   "source": [
    "%%bash\n",
    "cat ${WORKDIR}/cluster-keys.json | jq -r \".root_token\""
   ]
  },
  {
   "cell_type": "code",
   "execution_count": null,
   "metadata": {},
   "outputs": [],
   "source": [
    "%%bash\n",
    "kubectl exec -ti vault-0 -n vault -c vault --  vault login hvs.DHb7N6blLL0vg9NeZDfaKAwz"
   ]
  },
  {
   "cell_type": "code",
   "execution_count": null,
   "metadata": {},
   "outputs": [],
   "source": [
    "%%bash\n",
    "kubectl exec -ti vault-0 -n vault -c vault --  vault audit enable file file_path=/vault/audit/vault.log"
   ]
  },
  {
   "cell_type": "code",
   "execution_count": null,
   "metadata": {},
   "outputs": [],
   "source": [
    "%%bash\n",
    "kubectl exec -ti vault-0 -n vault -c vault --  cat /vault/audit/vault.log"
   ]
  },
  {
   "cell_type": "raw",
   "metadata": {},
   "source": [
    "## Log via kubectl exec to the pod and run a while loop\n",
    "kubectl exec -i -t vault-0 -n vault -c vault -- /bin/sh\n",
    "while true; do vault secrets list;date ; sleep 0.1; done > /dev/null"
   ]
  },
  {
   "cell_type": "code",
   "execution_count": null,
   "metadata": {},
   "outputs": [],
   "source": [
    "%%bash\n",
    "# Size in MB\n",
    "kubectl exec -ti vault-0 -n vault -c vault --  ls -lh /vault/audit/vault.log"
   ]
  },
  {
   "cell_type": "code",
   "execution_count": null,
   "metadata": {},
   "outputs": [],
   "source": [
    "%%bash\n",
    "# Size in MB\n",
    "kubectl exec -ti vault-0 -n vault -c vault --  ls -lh /vault/audit"
   ]
  },
  {
   "cell_type": "code",
   "execution_count": null,
   "metadata": {},
   "outputs": [],
   "source": [
    "%%bash\n",
    "#kubectl -n $VAULT_K8S_NAMESPACE get service vault\n",
    "kubectl -n vault port-forward service/vault 8200:8200"
   ]
  },
  {
   "cell_type": "raw",
   "metadata": {},
   "source": [
    "# Clean up\n",
    "helm uninstall vault -n vault\n",
    "kubectl delete pvc -n vault --all \n",
    "kubectl delete ns vault \n",
    "kubectl delete csr vault.svc\n",
    "# minikube delete -p dc1"
   ]
  }
 ],
 "metadata": {
  "kernelspec": {
   "display_name": "Python 3 (ipykernel)",
   "language": "python",
   "name": "python3"
  },
  "language_info": {
   "codemirror_mode": {
    "name": "ipython",
    "version": 3
   },
   "file_extension": ".py",
   "mimetype": "text/x-python",
   "name": "python",
   "nbconvert_exporter": "python",
   "pygments_lexer": "ipython3",
   "version": "3.9.6"
  },
  "vscode": {
   "interpreter": {
    "hash": "31f2aee4e71d21fbe5cf8b01ff0e069b9275f58929596ceb00d14d90e3e16cd6"
   }
  }
 },
 "nbformat": 4,
 "nbformat_minor": 2
}
