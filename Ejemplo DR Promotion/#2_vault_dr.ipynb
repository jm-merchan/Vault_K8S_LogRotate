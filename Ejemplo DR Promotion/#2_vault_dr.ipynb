{
 "cells": [
  {
   "cell_type": "code",
   "execution_count": 79,
   "metadata": {},
   "outputs": [
    {
     "name": "stdout",
     "output_type": "stream",
     "text": [
      "env: WORKDIR=/tmp/vault\n",
      "env: VAULT_K8S_NAMESPACE=vaultdr\n",
      "env: VAULT_HELM_RELEASE_NAME=vaultdr\n",
      "env: VAULT_SERVICE_NAME=vaultdr-internal\n",
      "env: K8S_CLUSTER_NAME=cluster.local\n"
     ]
    }
   ],
   "source": [
    "%env WORKDIR=/tmp/vault\n",
    "%env VAULT_K8S_NAMESPACE=vaultdr\n",
    "%env VAULT_HELM_RELEASE_NAME=vaultdr\n",
    "%env VAULT_SERVICE_NAME=vaultdr-internal \n",
    "%env K8S_CLUSTER_NAME=cluster.local"
   ]
  },
  {
   "cell_type": "code",
   "execution_count": 80,
   "metadata": {},
   "outputs": [
    {
     "name": "stdout",
     "output_type": "stream",
     "text": [
      "certificatesigningrequest.certificates.k8s.io/vaultdr.svc created\n"
     ]
    }
   ],
   "source": [
    "%%bash\n",
    "export VAULT_K8S_NAMESPACE=\"vaultdr\" \\\n",
    "export VAULT_HELM_RELEASE_NAME=\"vaultdr\" \\\n",
    "export VAULT_SERVICE_NAME=\"vaultdr-internal\" \\\n",
    "export K8S_CLUSTER_NAME=\"cluster.local\" \\\n",
    "export WORKDIR=/tmp/vault\n",
    "\n",
    "\n",
    "cat > ${WORKDIR}/vaultdr-csr.conf <<EOF\n",
    "[req]\n",
    "default_bits = 2048\n",
    "prompt = no\n",
    "encrypt_key = yes\n",
    "default_md = sha256\n",
    "distinguished_name = kubelet_serving\n",
    "req_extensions = v3_req\n",
    "[ kubelet_serving ]\n",
    "O = system:nodes\n",
    "CN = system:node:*.${VAULT_HELM_RELEASE_NAME}.svc.${K8S_CLUSTER_NAME}\n",
    "[ v3_req ]\n",
    "basicConstraints = CA:FALSE\n",
    "keyUsage = nonRepudiation, digitalSignature, keyEncipherment, dataEncipherment\n",
    "extendedKeyUsage = serverAuth, clientAuth\n",
    "subjectAltName = @alt_names\n",
    "[alt_names]\n",
    "DNS.1 = *.${VAULT_SERVICE_NAME}\n",
    "DNS.2 = *.${VAULT_SERVICE_NAME}.${VAULT_HELM_RELEASE_NAME}.svc.${K8S_CLUSTER_NAME}\n",
    "DNS.3 = *.${VAULT_HELM_RELEASE_NAME}\n",
    "DNS.4 = *.${VAULT_HELM_RELEASE_NAME}.svc.${K8S_CLUSTER_NAME}\n",
    "IP.1 = 127.0.0.1\n",
    "EOF\n",
    "\n",
    "openssl req -new -key ${WORKDIR}/vault.key -out ${WORKDIR}/vaultdr.csr -config ${WORKDIR}/vaultdr-csr.conf\n",
    "\n",
    "\n",
    "cat > ${WORKDIR}/csrpr.yaml <<EOF\n",
    "apiVersion: certificates.k8s.io/v1\n",
    "kind: CertificateSigningRequest\n",
    "metadata:\n",
    "   name: vaultdr.svc\n",
    "spec:\n",
    "   signerName: kubernetes.io/kubelet-serving\n",
    "   expirationSeconds: 8640000\n",
    "   request: $(cat ${WORKDIR}/vaultdr.csr|base64|tr -d '\\n')\n",
    "   usages:\n",
    "   - digital signature\n",
    "   - key encipherment\n",
    "   - server auth\n",
    "EOF\n",
    "\n",
    "kubectl create -f ${WORKDIR}/csrpr.yaml"
   ]
  },
  {
   "cell_type": "code",
   "execution_count": 81,
   "metadata": {},
   "outputs": [
    {
     "name": "stdout",
     "output_type": "stream",
     "text": [
      "certificatesigningrequest.certificates.k8s.io/vaultdr.svc approved\n"
     ]
    }
   ],
   "source": [
    "%%bash\n",
    "kubectl certificate approve vaultdr.svc"
   ]
  },
  {
   "cell_type": "code",
   "execution_count": 82,
   "metadata": {},
   "outputs": [
    {
     "name": "stdout",
     "output_type": "stream",
     "text": [
      "NAME          AGE   SIGNERNAME                      REQUESTOR       REQUESTEDDURATION   CONDITION\n",
      "vaultdr.svc   0s    kubernetes.io/kubelet-serving   minikube-user   100d                Approved,Issued\n"
     ]
    }
   ],
   "source": [
    "%%bash\n",
    "kubectl get csr vaultdr.svc"
   ]
  },
  {
   "cell_type": "code",
   "execution_count": 83,
   "metadata": {},
   "outputs": [],
   "source": [
    "%%bash\n",
    "kubectl get csr vaultdr.svc -o jsonpath='{.status.certificate}' | openssl base64 -d -A -out ${WORKDIR}/vaultdr.crt"
   ]
  },
  {
   "cell_type": "code",
   "execution_count": 84,
   "metadata": {},
   "outputs": [
    {
     "name": "stdout",
     "output_type": "stream",
     "text": [
      "namespace/vaultdr created\n",
      "secret/vault-ha-tls created\n"
     ]
    }
   ],
   "source": [
    "%%bash\n",
    "\n",
    "kubectl create namespace $VAULT_K8S_NAMESPACE\n",
    "\n",
    "kubectl create secret generic vault-ha-tls \\\n",
    "   -n $VAULT_K8S_NAMESPACE \\\n",
    "   --from-file=vault.key=${WORKDIR}/vault.key \\\n",
    "   --from-file=vault.crt=${WORKDIR}/vaultdr.crt \\\n",
    "   --from-file=vault.ca=${WORKDIR}/vault.ca\n"
   ]
  },
  {
   "cell_type": "code",
   "execution_count": 85,
   "metadata": {},
   "outputs": [
    {
     "name": "stdout",
     "output_type": "stream",
     "text": [
      "secret/vault-ent-license created\n"
     ]
    }
   ],
   "source": [
    "%%bash \n",
    "secret=$(cat /Users/jose/Demo/Vault_ADP/ADP_PlayGround/vault.hclic)\n",
    "kubectl create secret generic vault-ent-license --from-literal=\"license=${secret}\" -n $VAULT_K8S_NAMESPACE"
   ]
  },
  {
   "cell_type": "code",
   "execution_count": 86,
   "metadata": {},
   "outputs": [],
   "source": [
    "%%bash\n",
    "cat > ${WORKDIR}/overrides_pr.yaml <<EOF\n",
    "global:\n",
    "   enabled: true\n",
    "   tlsDisable: false # Disabling TLS to avoid issues when connecting to Vault via port forwarding\n",
    "injector:\n",
    "   enabled: false\n",
    "server:\n",
    "# config.yaml\n",
    "   image:\n",
    "      repository: hashicorp/vault-enterprise\n",
    "      tag: 1.14.1-ent\n",
    "   enterpriseLicense:\n",
    "      secretName: vault-ent-license\n",
    "   extraEnvironmentVars:\n",
    "      VAULT_CACERT: /vault/userconfig/vault-ha-tls/vault.ca\n",
    "      VAULT_TLSCERT: /vault/userconfig/vault-ha-tls/vault.crt\n",
    "      VAULT_TLSKEY: /vault/userconfig/vault-ha-tls/vault.key\n",
    "      VAULT_CLIENT_CERT: /vault/userconfig/vault-ha-tls/vault.crt\n",
    "      VAULT_CLIENT_KEY: /vault/userconfig/vault-ha-tls/vault.key\n",
    "   volumes:\n",
    "      - name: userconfig-vault-ha-tls\n",
    "        secret:\n",
    "         defaultMode: 420\n",
    "         secretName: vault-ha-tls\n",
    "   volumeMounts:\n",
    "      - mountPath: /vault/userconfig/vault-ha-tls\n",
    "        name: userconfig-vault-ha-tls\n",
    "        readOnly: true\n",
    "   standalone:\n",
    "      enabled: false\n",
    "   affinity: \"\"\n",
    "   ha:\n",
    "      enabled: true\n",
    "      replicas: 3\n",
    "      raft:\n",
    "         enabled: true\n",
    "         setNodeId: true\n",
    "         config: |\n",
    "            ui = true\n",
    "            cluster_name = \"vault-dr\"\n",
    "            listener \"tcp\" {\n",
    "               tls_disable = 0 # Disabling TLS to avoid issues when connecting to Vault via port forwarding\n",
    "               address = \"[::]:8200\"\n",
    "               cluster_address = \"[::]:8201\"\n",
    "               tls_cert_file = \"/vault/userconfig/vault-ha-tls/vault.crt\"\n",
    "               tls_key_file  = \"/vault/userconfig/vault-ha-tls/vault.key\"\n",
    "               tls_client_ca_file = \"/vault/userconfig/vault-ha-tls/vault.ca\"\n",
    "            }\n",
    "            storage \"raft\" {\n",
    "               path = \"/vault/data\"\n",
    "            \n",
    "               retry_join {\n",
    "                  auto_join             = \"provider=k8s namespace=vaultdr label_selector=\\\"component=server,app.kubernetes.io/name=vault\\\"\"\n",
    "                  auto_join_scheme      = \"https\"\n",
    "                  leader_ca_cert_file   = \"/vault/userconfig/vault-ha-tls/vault.ca\"\n",
    "                  leader_tls_servername = \"vaultdr-0.vaultdr-internal\" #Tiene que matchear una SAN del certificado\n",
    "               }\n",
    "            \n",
    "            }\n",
    "            disable_mlock = true\n",
    "            service_registration \"kubernetes\" {}\n",
    "EOF"
   ]
  },
  {
   "cell_type": "code",
   "execution_count": 87,
   "metadata": {},
   "outputs": [
    {
     "name": "stdout",
     "output_type": "stream",
     "text": [
      "NAME: vaultdr\n",
      "LAST DEPLOYED: Thu Sep 14 07:42:15 2023\n",
      "NAMESPACE: vaultdr\n",
      "STATUS: deployed\n",
      "REVISION: 1\n",
      "NOTES:\n",
      "Thank you for installing HashiCorp Vault!\n",
      "\n",
      "Now that you have deployed Vault, you should look over the docs on using\n",
      "Vault with Kubernetes available here:\n",
      "\n",
      "https://www.vaultproject.io/docs/\n",
      "\n",
      "\n",
      "Your release is named vaultdr. To learn more about the release, try:\n",
      "\n",
      "  $ helm status vaultdr\n",
      "  $ helm get manifest vaultdr\n"
     ]
    }
   ],
   "source": [
    "%%bash\n",
    "helm install -n $VAULT_K8S_NAMESPACE $VAULT_HELM_RELEASE_NAME hashicorp/vault -f ${WORKDIR}/overrides_pr.yaml"
   ]
  },
  {
   "cell_type": "code",
   "execution_count": 88,
   "metadata": {},
   "outputs": [
    {
     "name": "stdout",
     "output_type": "stream",
     "text": [
      "LAST SEEN   TYPE      REASON                  OBJECT                                 MESSAGE\n",
      "0s          Normal    ExternalProvisioning    persistentvolumeclaim/data-vaultdr-0   waiting for a volume to be created, either by external provisioner \"k8s.io/minikube-hostpath\" or manually created by system administrator\n",
      "0s          Normal    Provisioning            persistentvolumeclaim/data-vaultdr-0   External provisioner is provisioning volume for claim \"vaultdr/data-vaultdr-0\"\n",
      "0s          Normal    ProvisioningSucceeded   persistentvolumeclaim/data-vaultdr-0   Successfully provisioned volume pvc-02fd8e8d-d843-4ed5-9f01-639c5b4981af\n",
      "0s          Normal    ExternalProvisioning    persistentvolumeclaim/data-vaultdr-1   waiting for a volume to be created, either by external provisioner \"k8s.io/minikube-hostpath\" or manually created by system administrator\n",
      "0s          Normal    Provisioning            persistentvolumeclaim/data-vaultdr-1   External provisioner is provisioning volume for claim \"vaultdr/data-vaultdr-1\"\n",
      "0s          Normal    ProvisioningSucceeded   persistentvolumeclaim/data-vaultdr-1   Successfully provisioned volume pvc-520e941a-6d40-45f1-947d-dc4ee2a36d0f\n",
      "0s          Warning   FailedScheduling        pod/vaultdr-0                          0/1 nodes are available: pod has unbound immediate PersistentVolumeClaims. preemption: 0/1 nodes are available: 1 No preemption victims found for incoming pod..\n",
      "0s          Warning   FailedScheduling        pod/vaultdr-1                          0/1 nodes are available: pod has unbound immediate PersistentVolumeClaims. preemption: 0/1 nodes are available: 1 No preemption victims found for incoming pod..\n",
      "0s          Warning   FailedScheduling        pod/vaultdr-2                          0/1 nodes are available: pod has unbound immediate PersistentVolumeClaims. preemption: 0/1 nodes are available: 1 No preemption victims found for incoming pod..\n",
      "0s          Normal    NoPods                  poddisruptionbudget/vaultdr            No matching pods found\n",
      "0s          Normal    SuccessfulCreate        statefulset/vaultdr                    create Claim data-vaultdr-0 Pod vaultdr-0 in StatefulSet vaultdr success\n",
      "0s          Normal    SuccessfulCreate        statefulset/vaultdr                    create Pod vaultdr-0 in StatefulSet vaultdr successful\n",
      "0s          Normal    SuccessfulCreate        statefulset/vaultdr                    create Claim data-vaultdr-1 Pod vaultdr-1 in StatefulSet vaultdr success\n",
      "0s          Normal    SuccessfulCreate        statefulset/vaultdr                    create Pod vaultdr-1 in StatefulSet vaultdr successful\n",
      "0s          Normal    SuccessfulCreate        statefulset/vaultdr                    create Claim data-vaultdr-2 Pod vaultdr-2 in StatefulSet vaultdr success\n",
      "0s          Normal    SuccessfulCreate        statefulset/vaultdr                    create Pod vaultdr-2 in StatefulSet vaultdr successful\n"
     ]
    }
   ],
   "source": [
    "%%bash\n",
    "kubectl get events -n vaultdr"
   ]
  },
  {
   "cell_type": "code",
   "execution_count": 89,
   "metadata": {},
   "outputs": [],
   "source": [
    "%%bash\n",
    "sleep 10\n",
    "kubectl exec -n $VAULT_K8S_NAMESPACE vaultdr-0 -- vault operator init \\\n",
    "    -key-shares=1 \\\n",
    "    -key-threshold=1 \\\n",
    "    -format=json > ${WORKDIR}/clusterdr-keys.json"
   ]
  },
  {
   "cell_type": "code",
   "execution_count": 90,
   "metadata": {},
   "outputs": [
    {
     "name": "stdout",
     "output_type": "stream",
     "text": [
      "n+bu3nIJIK5djoNYG/LbA7tct2FLKb/F3IZY0/YNJYM=\n"
     ]
    }
   ],
   "source": [
    "%%bash\n",
    "jq -r \".unseal_keys_b64[]\" ${WORKDIR}/clusterdr-keys.json\n",
    "VAULT_UNSEAL_KEY_PR=$(jq -r \".unseal_keys_b64[]\" ${WORKDIR}/clusterdr-keys.json)"
   ]
  },
  {
   "cell_type": "code",
   "execution_count": 91,
   "metadata": {},
   "outputs": [
    {
     "name": "stdout",
     "output_type": "stream",
     "text": [
      "Key                     Value\n",
      "---                     -----\n",
      "Seal Type               shamir\n",
      "Initialized             true\n",
      "Sealed                  false\n",
      "Total Shares            1\n",
      "Threshold               1\n",
      "Version                 1.14.1+ent\n",
      "Build Date              2023-07-21T23:04:42Z\n",
      "Storage Type            raft\n",
      "Cluster Name            vault-dr\n",
      "Cluster ID              1ffdecb3-8ea1-7553-68b8-530c69fff8d1\n",
      "HA Enabled              true\n",
      "HA Cluster              https://vaultdr-0.vaultdr-internal:8201\n",
      "HA Mode                 active\n",
      "Active Since            2023-09-14T05:42:39.839308926Z\n",
      "Raft Committed Index    78\n",
      "Raft Applied Index      78\n",
      "Last WAL                32\n"
     ]
    }
   ],
   "source": [
    "%%bash\n",
    "sleep 5\n",
    "kubectl exec -n $VAULT_K8S_NAMESPACE vaultdr-0 -- vault operator unseal $(jq -r \".unseal_keys_b64[]\" ${WORKDIR}/clusterdr-keys.json)"
   ]
  },
  {
   "cell_type": "code",
   "execution_count": 93,
   "metadata": {},
   "outputs": [
    {
     "name": "stdout",
     "output_type": "stream",
     "text": [
      "Key                Value\n",
      "---                -----\n",
      "Seal Type          shamir\n",
      "Initialized        true\n",
      "Sealed             true\n",
      "Total Shares       1\n",
      "Threshold          1\n",
      "Unseal Progress    0/1\n",
      "Unseal Nonce       n/a\n",
      "Version            1.14.1+ent\n",
      "Build Date         2023-07-21T23:04:42Z\n",
      "Storage Type       raft\n",
      "HA Enabled         true\n"
     ]
    }
   ],
   "source": [
    "%%bash\n",
    "sleep 5\n",
    "kubectl exec -n $VAULT_K8S_NAMESPACE vaultdr-1 -- vault operator unseal $(jq -r \".unseal_keys_b64[]\" ${WORKDIR}/clusterdr-keys.json)"
   ]
  },
  {
   "cell_type": "code",
   "execution_count": 94,
   "metadata": {},
   "outputs": [
    {
     "name": "stdout",
     "output_type": "stream",
     "text": [
      "Key                Value\n",
      "---                -----\n",
      "Seal Type          shamir\n",
      "Initialized        true\n",
      "Sealed             true\n",
      "Total Shares       1\n",
      "Threshold          1\n",
      "Unseal Progress    0/1\n",
      "Unseal Nonce       n/a\n",
      "Version            1.14.1+ent\n",
      "Build Date         2023-07-21T23:04:42Z\n",
      "Storage Type       raft\n",
      "HA Enabled         true\n"
     ]
    }
   ],
   "source": [
    "%%bash\n",
    "kubectl exec -n $VAULT_K8S_NAMESPACE vaultdr-2 -- vault operator unseal $(jq -r \".unseal_keys_b64[]\" ${WORKDIR}/clusterdr-keys.json)"
   ]
  },
  {
   "cell_type": "code",
   "execution_count": 95,
   "metadata": {},
   "outputs": [
    {
     "name": "stderr",
     "output_type": "stream",
     "text": [
      "Unable to use a TTY - input is not a terminal or the right kind of file\n"
     ]
    },
    {
     "name": "stdout",
     "output_type": "stream",
     "text": [
      "Key                     Value\n",
      "---                     -----\n",
      "Seal Type               shamir\n",
      "Initialized             true\n",
      "Sealed                  false\n",
      "Total Shares            1\n",
      "Threshold               1\n",
      "Version                 1.14.1+ent\n",
      "Build Date              2023-07-21T23:04:42Z\n",
      "Storage Type            raft\n",
      "Cluster Name            vault-dr\n",
      "Cluster ID              1ffdecb3-8ea1-7553-68b8-530c69fff8d1\n",
      "HA Enabled              true\n",
      "HA Cluster              https://vaultdr-0.vaultdr-internal:8201\n",
      "HA Mode                 active\n",
      "Active Since            2023-09-14T05:42:39.839308926Z\n",
      "Raft Committed Index    108\n",
      "Raft Applied Index      108\n",
      "Last WAL                35\n"
     ]
    }
   ],
   "source": [
    "%%bash\n",
    "kubectl exec -n $VAULT_K8S_NAMESPACE -ti vaultdr-0 -- vault status"
   ]
  },
  {
   "cell_type": "code",
   "execution_count": 96,
   "metadata": {},
   "outputs": [
    {
     "name": "stderr",
     "output_type": "stream",
     "text": [
      "Unable to use a TTY - input is not a terminal or the right kind of file\n"
     ]
    },
    {
     "name": "stdout",
     "output_type": "stream",
     "text": [
      "Source: /vault/license/license (path from the VAULT_LICENSE_PATH environment variable)\n",
      "Product: vault\n",
      "License ID: 152295e1-3784-2641-bd01-bfdbc0a37c35\n",
      "Customer ID: d9a6d7e8-e947-ea92-ec07-82c6901283c1\n",
      "Installation ID: *\n",
      "Issue Time: 2022-12-19 08:50:24.624461496 +0000 UTC\n",
      "Start Time: 2022-12-19 00:00:00 +0000 UTC\n",
      "Expiration Time: 2023-12-19 23:59:59.999 +0000 UTC\n",
      "Termination Time: 2023-12-19 23:59:59.999 +0000 UTC\n",
      "{\"license_id\":\"152295e1-3784-2641-bd01-bfdbc0a37c35\",\"customer_id\":\"d9a6d7e8-e947-ea92-ec07-82c6901283c1\",\"installation_id\":\"*\",\"issue_time\":\"2022-12-19T08:50:24.624461496Z\",\"start_time\":\"2022-12-19T00:00:00Z\",\"expiration_time\":\"2023-12-19T23:59:59.999Z\",\"termination_time\":\"2023-12-19T23:59:59.999Z\",\"flags\":{\"modules\":[\"multi-dc-scale\",\"governance-policy\",\"advanced-data-protection-transform\",\"advanced-data-protection-key-management\"]},\"features\":[\"HSM\",\"Performance Replication\",\"DR Replication\",\"MFA\",\"Sentinel\",\"Seal Wrapping\",\"Control Groups\",\"Performance Standby\",\"Namespaces\",\"KMIP\",\"Entropy Augmentation\",\"Transform Secrets Engine\",\"Lease Count Quotas\",\"Key Management Secrets Engine\",\"Automated Snapshots\",\"Key Management Transparent Data Encryption\"],\"performance_standby_count\":9999}\n",
      "\n",
      "License is valid\n"
     ]
    }
   ],
   "source": [
    "%%bash\n",
    "kubectl exec -n $VAULT_K8S_NAMESPACE -ti vaultdr-0 --  vault license inspect"
   ]
  },
  {
   "cell_type": "code",
   "execution_count": 97,
   "metadata": {},
   "outputs": [
    {
     "name": "stdout",
     "output_type": "stream",
     "text": [
      "hvs.7uWHdFJVOGSwjZrLP8O200QK\n"
     ]
    }
   ],
   "source": [
    "%%bash\n",
    "cat ${WORKDIR}/clusterdr-keys.json | jq -r \".root_token\""
   ]
  },
  {
   "cell_type": "markdown",
   "metadata": {},
   "source": []
  },
  {
   "cell_type": "code",
   "execution_count": 98,
   "metadata": {},
   "outputs": [
    {
     "name": "stdout",
     "output_type": "stream",
     "text": [
      "Forwarding from 127.0.0.1:8300 -> 8200\n",
      "Forwarding from [::1]:8300 -> 8200\n",
      "Handling connection for 8300\n",
      "Handling connection for 8300\n",
      "Handling connection for 8300\n",
      "Handling connection for 8300\n",
      "Handling connection for 8300\n",
      "Handling connection for 8300\n"
     ]
    }
   ],
   "source": [
    "%%bash\n",
    "#kubectl -n $VAULT_K8S_NAMESPACE get service vault\n",
    "kubectl -n vaultdr port-forward service/vaultdr 8300:8200"
   ]
  }
 ],
 "metadata": {
  "kernelspec": {
   "display_name": "Python 3",
   "language": "python",
   "name": "python3"
  },
  "language_info": {
   "codemirror_mode": {
    "name": "ipython",
    "version": 3
   },
   "file_extension": ".py",
   "mimetype": "text/x-python",
   "name": "python",
   "nbconvert_exporter": "python",
   "pygments_lexer": "ipython3",
   "version": "3.9.6"
  },
  "orig_nbformat": 4,
  "vscode": {
   "interpreter": {
    "hash": "31f2aee4e71d21fbe5cf8b01ff0e069b9275f58929596ceb00d14d90e3e16cd6"
   }
  }
 },
 "nbformat": 4,
 "nbformat_minor": 2
}
