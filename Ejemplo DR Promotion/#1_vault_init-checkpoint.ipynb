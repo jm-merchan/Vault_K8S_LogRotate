{
 "cells": [
  {
   "cell_type": "markdown",
   "metadata": {},
   "source": [
    "### Based on https://developer.hashicorp.com/vault/tutorials/kubernetes/kubernetes-minikube-tls"
   ]
  },
  {
   "cell_type": "code",
   "execution_count": 86,
   "metadata": {},
   "outputs": [],
   "source": [
    "# minikube delete -p dc1"
   ]
  },
  {
   "cell_type": "code",
   "execution_count": 87,
   "metadata": {},
   "outputs": [],
   "source": [
    "%%bash\n",
    "# Initialize docker first\n",
    "#sleep 30\n",
    "# minikube start -p dc1"
   ]
  },
  {
   "cell_type": "code",
   "execution_count": 88,
   "metadata": {},
   "outputs": [
    {
     "name": "stdout",
     "output_type": "stream",
     "text": [
      "dc1\n",
      "type: Control Plane\n",
      "host: Running\n",
      "kubelet: Running\n",
      "apiserver: Running\n",
      "kubeconfig: Configured\n",
      "\n"
     ]
    }
   ],
   "source": [
    "%%bash\n",
    "minikube status -p dc1"
   ]
  },
  {
   "cell_type": "code",
   "execution_count": 89,
   "metadata": {},
   "outputs": [
    {
     "name": "stdout",
     "output_type": "stream",
     "text": [
      "\"hashicorp\" already exists with the same configuration, skipping\n",
      "Hang tight while we grab the latest from your chart repositories...\n",
      "...Successfully got an update from the \"jaegertracing\" chart repository\n",
      "...Successfully got an update from the \"hashicorp\" chart repository\n",
      "...Successfully got an update from the \"secrets-store-csi-driver\" chart repository\n",
      "...Successfully got an update from the \"jaeger-all-in-one\" chart repository\n",
      "...Successfully got an update from the \"datadog\" chart repository\n",
      "...Successfully got an update from the \"jetstack\" chart repository\n",
      "...Successfully got an update from the \"signoz\" chart repository\n",
      "...Successfully got an update from the \"external-secrets\" chart repository\n",
      "...Successfully got an update from the \"gitlab\" chart repository\n",
      "...Successfully got an update from the \"bitnami\" chart repository\n",
      "Update Complete. ⎈Happy Helming!⎈\n"
     ]
    }
   ],
   "source": [
    "%%bash\n",
    "helm repo add hashicorp https://helm.releases.hashicorp.com\n",
    "helm repo update"
   ]
  },
  {
   "cell_type": "code",
   "execution_count": 90,
   "metadata": {},
   "outputs": [],
   "source": [
    "%%bash\n",
    "rm -rf /tmp/vault\n",
    "mkdir /tmp/vault"
   ]
  },
  {
   "cell_type": "code",
   "execution_count": 91,
   "metadata": {},
   "outputs": [
    {
     "name": "stderr",
     "output_type": "stream",
     "text": [
      "Generating RSA private key, 2048 bit long modulus\n"
     ]
    },
    {
     "name": "stderr",
     "output_type": "stream",
     "text": [
      "........................................................+++++\n",
      "..+++++\n",
      "e is 65537 (0x10001)\n"
     ]
    },
    {
     "name": "stdout",
     "output_type": "stream",
     "text": [
      "certificatesigningrequest.certificates.k8s.io/vault.svc created\n"
     ]
    }
   ],
   "source": [
    "%%bash\n",
    "export VAULT_K8S_NAMESPACE=\"vault\" \\\n",
    "export VAULT_HELM_RELEASE_NAME=\"vault\" \\\n",
    "export VAULT_SERVICE_NAME=\"vault-internal\" \\\n",
    "export K8S_CLUSTER_NAME=\"cluster.local\" \\\n",
    "export WORKDIR=/tmp/vault\n",
    "openssl genrsa -out ${WORKDIR}/vault.key 2048\n",
    "cat > ${WORKDIR}/vault-csr.conf <<EOF\n",
    "[req]\n",
    "default_bits = 2048\n",
    "prompt = no\n",
    "encrypt_key = yes\n",
    "default_md = sha256\n",
    "distinguished_name = kubelet_serving\n",
    "req_extensions = v3_req\n",
    "[ kubelet_serving ]\n",
    "O = system:nodes\n",
    "CN = system:node:*.${VAULT_HELM_RELEASE_NAME}.svc.${K8S_CLUSTER_NAME}\n",
    "[ v3_req ]\n",
    "basicConstraints = CA:FALSE\n",
    "keyUsage = nonRepudiation, digitalSignature, keyEncipherment, dataEncipherment\n",
    "extendedKeyUsage = serverAuth, clientAuth\n",
    "subjectAltName = @alt_names\n",
    "[alt_names]\n",
    "DNS.1 = *.${VAULT_SERVICE_NAME}\n",
    "DNS.2 = *.${VAULT_SERVICE_NAME}.${VAULT_HELM_RELEASE_NAME}.svc.${K8S_CLUSTER_NAME}\n",
    "DNS.3 = *.${VAULT_HELM_RELEASE_NAME}\n",
    "DNS.4 = *.${VAULT_HELM_RELEASE_NAME}.svc.${K8S_CLUSTER_NAME}\n",
    "IP.1 = 127.0.0.1\n",
    "EOF\n",
    "\n",
    "openssl req -new -key ${WORKDIR}/vault.key -out ${WORKDIR}/vault.csr -config ${WORKDIR}/vault-csr.conf\n",
    "\n",
    "\n",
    "cat > ${WORKDIR}/csr.yaml <<EOF\n",
    "apiVersion: certificates.k8s.io/v1\n",
    "kind: CertificateSigningRequest\n",
    "metadata:\n",
    "   name: vault.svc\n",
    "spec:\n",
    "   signerName: kubernetes.io/kubelet-serving\n",
    "   expirationSeconds: 8640000\n",
    "   request: $(cat ${WORKDIR}/vault.csr|base64|tr -d '\\n')\n",
    "   usages:\n",
    "   - digital signature\n",
    "   - key encipherment\n",
    "   - server auth\n",
    "EOF\n",
    "\n",
    "kubectl create -f ${WORKDIR}/csr.yaml\n"
   ]
  },
  {
   "cell_type": "code",
   "execution_count": 92,
   "metadata": {},
   "outputs": [
    {
     "name": "stdout",
     "output_type": "stream",
     "text": [
      "certificatesigningrequest.certificates.k8s.io/vault.svc approved\n"
     ]
    }
   ],
   "source": [
    "%%bash\n",
    "kubectl certificate approve vault.svc"
   ]
  },
  {
   "cell_type": "code",
   "execution_count": 93,
   "metadata": {},
   "outputs": [
    {
     "name": "stdout",
     "output_type": "stream",
     "text": [
      "NAME        AGE   SIGNERNAME                      REQUESTOR       REQUESTEDDURATION   CONDITION\n",
      "vault.svc   0s    kubernetes.io/kubelet-serving   minikube-user   100d                Approved,Issued\n"
     ]
    }
   ],
   "source": [
    "%%bash\n",
    "kubectl get csr vault.svc"
   ]
  },
  {
   "cell_type": "code",
   "execution_count": 94,
   "metadata": {},
   "outputs": [
    {
     "name": "stdout",
     "output_type": "stream",
     "text": [
      "env: WORKDIR=/tmp/vault\n",
      "env: VAULT_K8S_NAMESPACE=vault\n",
      "env: VAULT_HELM_RELEASE_NAME=vault\n",
      "env: VAULT_SERVICE_NAME=vault-internal\n",
      "env: K8S_CLUSTER_NAME=cluster.local\n"
     ]
    }
   ],
   "source": [
    "%env  WORKDIR=/tmp/vault\n",
    "%env VAULT_K8S_NAMESPACE=vault\n",
    "%env VAULT_HELM_RELEASE_NAME=vault\n",
    "%env VAULT_SERVICE_NAME=vault-internal \n",
    "%env K8S_CLUSTER_NAME=cluster.local "
   ]
  },
  {
   "cell_type": "code",
   "execution_count": 95,
   "metadata": {},
   "outputs": [],
   "source": [
    "%%bash\n",
    "kubectl get csr vault.svc -o jsonpath='{.status.certificate}' | openssl base64 -d -A -out ${WORKDIR}/vault.crt"
   ]
  },
  {
   "cell_type": "code",
   "execution_count": 96,
   "metadata": {},
   "outputs": [],
   "source": [
    "%%bash\n",
    "kubectl config view --raw --minify --flatten -o jsonpath='{.clusters[].cluster.certificate-authority-data}' | base64 -d > ${WORKDIR}/vault.ca"
   ]
  },
  {
   "cell_type": "code",
   "execution_count": 97,
   "metadata": {},
   "outputs": [
    {
     "name": "stdout",
     "output_type": "stream",
     "text": [
      "namespace/vault created\n",
      "secret/vault-ha-tls created\n"
     ]
    }
   ],
   "source": [
    "%%bash\n",
    "kubectl get csr vault.svc -o jsonpath='{.status.certificate}' | openssl base64 -d -A -out ${WORKDIR}/vault.crt\n",
    "kubectl config view \\\n",
    "--raw \\\n",
    "--minify \\\n",
    "--flatten \\\n",
    "-o jsonpath='{.clusters[].cluster.certificate-authority-data}' \\\n",
    "| base64 -d > ${WORKDIR}/vault.ca\n",
    "\n",
    "kubectl create namespace $VAULT_K8S_NAMESPACE\n",
    "\n",
    "kubectl create secret generic vault-ha-tls \\\n",
    "   -n $VAULT_K8S_NAMESPACE \\\n",
    "   --from-file=vault.key=${WORKDIR}/vault.key \\\n",
    "   --from-file=vault.crt=${WORKDIR}/vault.crt \\\n",
    "   --from-file=vault.ca=${WORKDIR}/vault.ca"
   ]
  },
  {
   "cell_type": "markdown",
   "metadata": {},
   "source": [
    "### Adding enterprise license based on https://developer.hashicorp.com/vault/docs/platform/k8s/helm/enterprise"
   ]
  },
  {
   "cell_type": "code",
   "execution_count": 98,
   "metadata": {},
   "outputs": [
    {
     "name": "stdout",
     "output_type": "stream",
     "text": [
      "secret/vault-ent-license created\n"
     ]
    }
   ],
   "source": [
    "%%bash \n",
    "secret=$(cat /Users/jose/Demo/Vault_ADP/ADP_PlayGround/vault.hclic)\n",
    "kubectl create secret generic vault-ent-license --from-literal=\"license=${secret}\" -n $VAULT_K8S_NAMESPACE\n"
   ]
  },
  {
   "cell_type": "code",
   "execution_count": 99,
   "metadata": {},
   "outputs": [],
   "source": [
    "%%bash\n",
    "cat > ${WORKDIR}/overrides.yaml <<EOF\n",
    "global:\n",
    "   enabled: true\n",
    "   tlsDisable: false # Disabling TLS to avoid issues when connecting to Vault via port forwarding\n",
    "injector:\n",
    "   enabled: true\n",
    "server:\n",
    "# config.yaml\n",
    "   image:\n",
    "      repository: hashicorp/vault-enterprise\n",
    "      tag: 1.14.1-ent\n",
    "   enterpriseLicense:\n",
    "      secretName: vault-ent-license\n",
    "   extraEnvironmentVars:\n",
    "      VAULT_CACERT: /vault/userconfig/vault-ha-tls/vault.ca\n",
    "      VAULT_TLSCERT: /vault/userconfig/vault-ha-tls/vault.crt\n",
    "      VAULT_TLSKEY: /vault/userconfig/vault-ha-tls/vault.key\n",
    "   volumes:\n",
    "      - name: userconfig-vault-ha-tls\n",
    "        secret:\n",
    "         defaultMode: 420\n",
    "         secretName: vault-ha-tls\n",
    "   volumeMounts:\n",
    "      - mountPath: /vault/userconfig/vault-ha-tls\n",
    "        name: userconfig-vault-ha-tls\n",
    "        readOnly: true\n",
    "   standalone:\n",
    "      enabled: false\n",
    "   affinity: \"\"\n",
    "   logLevel: \"trace\"\n",
    "   ha:\n",
    "      enabled: true\n",
    "      replicas: 3\n",
    "      raft:\n",
    "         enabled: true\n",
    "         setNodeId: true\n",
    "         config: |\n",
    "            ui = true\n",
    "            cluster_name = \"vault-primary\"\n",
    "            listener \"tcp\" {\n",
    "               tls_disable = 0 # Disabling TLS to avoid issues when connecting to Vault via port forwarding\n",
    "               address = \"[::]:8200\"\n",
    "               cluster_address = \"[::]:8201\"\n",
    "               tls_cert_file = \"/vault/userconfig/vault-ha-tls/vault.crt\"\n",
    "               tls_key_file  = \"/vault/userconfig/vault-ha-tls/vault.key\"\n",
    "               tls_client_ca_file = \"/vault/userconfig/vault-ha-tls/vault.ca\"\n",
    "            }\n",
    "            storage \"raft\" {\n",
    "               path = \"/vault/data\"\n",
    "            \n",
    "               retry_join {\n",
    "                  auto_join             = \"provider=k8s namespace=vault label_selector=\\\"component=server,app.kubernetes.io/name=vault\\\"\"\n",
    "                  auto_join_scheme      = \"https\"\n",
    "                  leader_ca_cert_file   = \"/vault/userconfig/vault-ha-tls/vault.ca\"\n",
    "                  leader_tls_servername = \"vault-0.vault-internal\" #Tiene que matchear una SAN del certificado\n",
    "               }\n",
    "            \n",
    "            }\n",
    "\n",
    "            disable_mlock = true\n",
    "            service_registration \"kubernetes\" {}\n",
    "EOF\n"
   ]
  },
  {
   "cell_type": "code",
   "execution_count": 100,
   "metadata": {},
   "outputs": [
    {
     "name": "stdout",
     "output_type": "stream",
     "text": [
      "NAME: vault\n",
      "LAST DEPLOYED: Thu Sep 14 07:40:25 2023\n",
      "NAMESPACE: vault\n",
      "STATUS: deployed\n",
      "REVISION: 1\n",
      "NOTES:\n",
      "Thank you for installing HashiCorp Vault!\n",
      "\n",
      "Now that you have deployed Vault, you should look over the docs on using\n",
      "Vault with Kubernetes available here:\n",
      "\n",
      "https://www.vaultproject.io/docs/\n",
      "\n",
      "\n",
      "Your release is named vault. To learn more about the release, try:\n",
      "\n",
      "  $ helm status vault\n",
      "  $ helm get manifest vault\n"
     ]
    }
   ],
   "source": [
    "%%bash\n",
    "helm install -n $VAULT_K8S_NAMESPACE $VAULT_HELM_RELEASE_NAME hashicorp/vault -f ${WORKDIR}/overrides.yaml"
   ]
  },
  {
   "cell_type": "code",
   "execution_count": 101,
   "metadata": {},
   "outputs": [
    {
     "name": "stdout",
     "output_type": "stream",
     "text": [
      "NAME                                    READY   STATUS              RESTARTS   AGE\n",
      "vault-0                                 0/1     Pending             0          0s\n",
      "vault-1                                 0/1     Pending             0          0s\n",
      "vault-2                                 0/1     Pending             0          0s\n",
      "vault-agent-injector-6fdf6cd4d6-2j8gs   0/1     ContainerCreating   0          0s\n"
     ]
    }
   ],
   "source": [
    "%%bash\n",
    "kubectl -n $VAULT_K8S_NAMESPACE get pods"
   ]
  },
  {
   "cell_type": "code",
   "execution_count": 102,
   "metadata": {},
   "outputs": [
    {
     "name": "stdout",
     "output_type": "stream",
     "text": [
      "LAST SEEN   TYPE      REASON                  OBJECT                                       MESSAGE\n",
      "0s          Normal    Provisioning            persistentvolumeclaim/data-vault-0           External provisioner is provisioning volume for claim \"vault/data-vault-0\"\n",
      "0s          Normal    ExternalProvisioning    persistentvolumeclaim/data-vault-0           waiting for a volume to be created, either by external provisioner \"k8s.io/minikube-hostpath\" or manually created by system administrator\n",
      "0s          Normal    ProvisioningSucceeded   persistentvolumeclaim/data-vault-0           Successfully provisioned volume pvc-bf3bbca6-72fa-4cfa-bbda-cdf727e316f3\n",
      "0s          Normal    ExternalProvisioning    persistentvolumeclaim/data-vault-1           waiting for a volume to be created, either by external provisioner \"k8s.io/minikube-hostpath\" or manually created by system administrator\n",
      "0s          Normal    Provisioning            persistentvolumeclaim/data-vault-1           External provisioner is provisioning volume for claim \"vault/data-vault-1\"\n",
      "0s          Normal    ProvisioningSucceeded   persistentvolumeclaim/data-vault-1           Successfully provisioned volume pvc-586368dc-941d-44a9-b56a-c01afccf2462\n",
      "0s          Normal    ExternalProvisioning    persistentvolumeclaim/data-vault-2           waiting for a volume to be created, either by external provisioner \"k8s.io/minikube-hostpath\" or manually created by system administrator\n",
      "0s          Normal    Provisioning            persistentvolumeclaim/data-vault-2           External provisioner is provisioning volume for claim \"vault/data-vault-2\"\n",
      "0s          Normal    ProvisioningSucceeded   persistentvolumeclaim/data-vault-2           Successfully provisioned volume pvc-476cd22c-739e-47af-ab75-f45ecda0c475\n",
      "0s          Warning   FailedScheduling        pod/vault-0                                  0/1 nodes are available: pod has unbound immediate PersistentVolumeClaims. preemption: 0/1 nodes are available: 1 No preemption victims found for incoming pod..\n",
      "0s          Warning   FailedScheduling        pod/vault-1                                  0/1 nodes are available: pod has unbound immediate PersistentVolumeClaims. preemption: 0/1 nodes are available: 1 No preemption victims found for incoming pod..\n",
      "0s          Warning   FailedScheduling        pod/vault-2                                  0/1 nodes are available: pod has unbound immediate PersistentVolumeClaims. preemption: 0/1 nodes are available: 1 No preemption victims found for incoming pod..\n",
      "0s          Normal    Scheduled               pod/vault-agent-injector-6fdf6cd4d6-2j8gs    Successfully assigned vault/vault-agent-injector-6fdf6cd4d6-2j8gs to dc1\n",
      "0s          Normal    SuccessfulCreate        replicaset/vault-agent-injector-6fdf6cd4d6   Created pod: vault-agent-injector-6fdf6cd4d6-2j8gs\n",
      "0s          Normal    ScalingReplicaSet       deployment/vault-agent-injector              Scaled up replica set vault-agent-injector-6fdf6cd4d6 to 1\n",
      "0s          Normal    NoPods                  poddisruptionbudget/vault                    No matching pods found\n",
      "0s          Normal    SuccessfulCreate        statefulset/vault                            create Claim data-vault-0 Pod vault-0 in StatefulSet vault success\n",
      "0s          Normal    SuccessfulCreate        statefulset/vault                            create Pod vault-0 in StatefulSet vault successful\n",
      "0s          Normal    SuccessfulCreate        statefulset/vault                            create Claim data-vault-1 Pod vault-1 in StatefulSet vault success\n",
      "0s          Normal    SuccessfulCreate        statefulset/vault                            create Pod vault-1 in StatefulSet vault successful\n",
      "0s          Normal    SuccessfulCreate        statefulset/vault                            create Claim data-vault-2 Pod vault-2 in StatefulSet vault success\n",
      "0s          Normal    SuccessfulCreate        statefulset/vault                            create Pod vault-2 in StatefulSet vault successful\n"
     ]
    }
   ],
   "source": [
    "%%bash\n",
    "kubectl get events -n vault"
   ]
  },
  {
   "cell_type": "code",
   "execution_count": 103,
   "metadata": {},
   "outputs": [],
   "source": [
    "%%bash\n",
    "sleep 15\n",
    "kubectl exec -n $VAULT_K8S_NAMESPACE vault-0 -- vault operator init \\\n",
    "    -key-shares=1 \\\n",
    "    -key-threshold=1 \\\n",
    "    -format=json > ${WORKDIR}/cluster-keys.json\n"
   ]
  },
  {
   "cell_type": "code",
   "execution_count": 104,
   "metadata": {},
   "outputs": [
    {
     "name": "stdout",
     "output_type": "stream",
     "text": [
      "jYGqiFoPuk7EQoYQW3YiSC0fYXTX4nPj99CQz1ZzCEw=\n"
     ]
    }
   ],
   "source": [
    "%%bash\n",
    "jq -r \".unseal_keys_b64[]\" ${WORKDIR}/cluster-keys.json\n",
    "VAULT_UNSEAL_KEY=$(jq -r \".unseal_keys_b64[]\" ${WORKDIR}/cluster-keys.json)"
   ]
  },
  {
   "cell_type": "code",
   "execution_count": 105,
   "metadata": {},
   "outputs": [
    {
     "name": "stdout",
     "output_type": "stream",
     "text": [
      "Key                     Value\n",
      "---                     -----\n",
      "Seal Type               shamir\n",
      "Initialized             true\n",
      "Sealed                  false\n",
      "Total Shares            1\n",
      "Threshold               1\n",
      "Version                 1.14.1+ent\n",
      "Build Date              2023-07-21T23:04:42Z\n",
      "Storage Type            raft\n",
      "Cluster Name            vault-primary\n",
      "Cluster ID              05bbde01-1126-e523-c9c1-87fa4b229ced\n",
      "HA Enabled              true\n",
      "HA Cluster              https://vault-0.vault-internal:8201\n",
      "HA Mode                 active\n",
      "Active Since            2023-09-14T05:40:47.712795846Z\n",
      "Raft Committed Index    78\n",
      "Raft Applied Index      78\n",
      "Last WAL                32\n"
     ]
    }
   ],
   "source": [
    "%%bash\n",
    "kubectl exec -n $VAULT_K8S_NAMESPACE vault-0 -- vault operator unseal $(jq -r \".unseal_keys_b64[]\" ${WORKDIR}/cluster-keys.json)"
   ]
  },
  {
   "cell_type": "code",
   "execution_count": 107,
   "metadata": {},
   "outputs": [
    {
     "name": "stderr",
     "output_type": "stream",
     "text": [
      "Unable to use a TTY - input is not a terminal or the right kind of file\n"
     ]
    },
    {
     "name": "stdout",
     "output_type": "stream",
     "text": [
      "Key                Value\n",
      "---                -----\n",
      "Seal Type          shamir\n",
      "Initialized        true\n",
      "Sealed             true\n",
      "Total Shares       1\n",
      "Threshold          1\n",
      "Unseal Progress    0/1\n",
      "Unseal Nonce       n/a\n",
      "Version            1.14.1+ent\n",
      "Build Date         2023-07-21T23:04:42Z\n",
      "Storage Type       raft\n",
      "HA Enabled         true\n"
     ]
    }
   ],
   "source": [
    "%%bash\n",
    "sleep 5\n",
    "kubectl exec -n $VAULT_K8S_NAMESPACE -ti vault-1 -- vault operator unseal $(jq -r \".unseal_keys_b64[]\" ${WORKDIR}/cluster-keys.json)"
   ]
  },
  {
   "cell_type": "code",
   "execution_count": 108,
   "metadata": {},
   "outputs": [
    {
     "name": "stderr",
     "output_type": "stream",
     "text": [
      "Unable to use a TTY - input is not a terminal or the right kind of file\n"
     ]
    },
    {
     "name": "stdout",
     "output_type": "stream",
     "text": [
      "Key                Value\n",
      "---                -----\n",
      "Seal Type          shamir\n",
      "Initialized        true\n",
      "Sealed             true\n",
      "Total Shares       1\n",
      "Threshold          1\n",
      "Unseal Progress    0/1\n",
      "Unseal Nonce       n/a\n",
      "Version            1.14.1+ent\n",
      "Build Date         2023-07-21T23:04:42Z\n",
      "Storage Type       raft\n",
      "HA Enabled         true\n"
     ]
    }
   ],
   "source": [
    "%%bash\n",
    "kubectl exec -n $VAULT_K8S_NAMESPACE -ti vault-2 -- vault operator unseal $(jq -r \".unseal_keys_b64[]\" ${WORKDIR}/cluster-keys.json)"
   ]
  },
  {
   "cell_type": "code",
   "execution_count": 109,
   "metadata": {},
   "outputs": [
    {
     "name": "stderr",
     "output_type": "stream",
     "text": [
      "Unable to use a TTY - input is not a terminal or the right kind of file\n"
     ]
    },
    {
     "name": "stdout",
     "output_type": "stream",
     "text": [
      "Key                     Value\n",
      "---                     -----\n",
      "Seal Type               shamir\n",
      "Initialized             true\n",
      "Sealed                  false\n",
      "Total Shares            1\n",
      "Threshold               1\n",
      "Version                 1.14.1+ent\n",
      "Build Date              2023-07-21T23:04:42Z\n",
      "Storage Type            raft\n",
      "Cluster Name            vault-primary\n",
      "Cluster ID              05bbde01-1126-e523-c9c1-87fa4b229ced\n",
      "HA Enabled              true\n",
      "HA Cluster              https://vault-0.vault-internal:8201\n",
      "HA Mode                 active\n",
      "Active Since            2023-09-14T05:40:47.712795846Z\n",
      "Raft Committed Index    110\n",
      "Raft Applied Index      110\n",
      "Last WAL                35\n"
     ]
    }
   ],
   "source": [
    "%%bash\n",
    "kubectl exec -n $VAULT_K8S_NAMESPACE -ti vault-0 -- vault status"
   ]
  },
  {
   "cell_type": "code",
   "execution_count": 110,
   "metadata": {},
   "outputs": [
    {
     "name": "stderr",
     "output_type": "stream",
     "text": [
      "Unable to use a TTY - input is not a terminal or the right kind of file\n"
     ]
    },
    {
     "name": "stdout",
     "output_type": "stream",
     "text": [
      "Source: /vault/license/license (path from the VAULT_LICENSE_PATH environment variable)\n",
      "Product: vault\n",
      "License ID: 152295e1-3784-2641-bd01-bfdbc0a37c35\n",
      "Customer ID: d9a6d7e8-e947-ea92-ec07-82c6901283c1\n",
      "Installation ID: *\n",
      "Issue Time: 2022-12-19 08:50:24.624461496 +0000 UTC\n",
      "Start Time: 2022-12-19 00:00:00 +0000 UTC\n",
      "Expiration Time: 2023-12-19 23:59:59.999 +0000 UTC\n",
      "Termination Time: 2023-12-19 23:59:59.999 +0000 UTC\n",
      "{\"license_id\":\"152295e1-3784-2641-bd01-bfdbc0a37c35\",\"customer_id\":\"d9a6d7e8-e947-ea92-ec07-82c6901283c1\",\"installation_id\":\"*\",\"issue_time\":\"2022-12-19T08:50:24.624461496Z\",\"start_time\":\"2022-12-19T00:00:00Z\",\"expiration_time\":\"2023-12-19T23:59:59.999Z\",\"termination_time\":\"2023-12-19T23:59:59.999Z\",\"flags\":{\"modules\":[\"multi-dc-scale\",\"governance-policy\",\"advanced-data-protection-transform\",\"advanced-data-protection-key-management\"]},\"features\":[\"HSM\",\"Performance Replication\",\"DR Replication\",\"MFA\",\"Sentinel\",\"Seal Wrapping\",\"Control Groups\",\"Performance Standby\",\"Namespaces\",\"KMIP\",\"Entropy Augmentation\",\"Transform Secrets Engine\",\"Lease Count Quotas\",\"Key Management Secrets Engine\",\"Automated Snapshots\",\"Key Management Transparent Data Encryption\"],\"performance_standby_count\":9999}\n",
      "\n",
      "License is valid\n"
     ]
    }
   ],
   "source": [
    "%%bash\n",
    "kubectl exec -n $VAULT_K8S_NAMESPACE -ti vault-0 --  vault license inspect"
   ]
  },
  {
   "cell_type": "code",
   "execution_count": 111,
   "metadata": {},
   "outputs": [
    {
     "name": "stderr",
     "output_type": "stream",
     "text": [
      "Unable to use a TTY - input is not a terminal or the right kind of file\n"
     ]
    },
    {
     "name": "stdout",
     "output_type": "stream",
     "text": [
      "Key                                    Value\n",
      "---                                    -----\n",
      "Seal Type                              shamir\n",
      "Initialized                            true\n",
      "Sealed                                 false\n",
      "Total Shares                           1\n",
      "Threshold                              1\n",
      "Version                                1.14.1+ent\n",
      "Build Date                             2023-07-21T23:04:42Z\n",
      "Storage Type                           raft\n",
      "Cluster Name                           vault-primary\n",
      "Cluster ID                             05bbde01-1126-e523-c9c1-87fa4b229ced\n",
      "HA Enabled                             true\n",
      "HA Cluster                             https://vault-0.vault-internal:8201\n",
      "HA Mode                                standby\n",
      "Active Node Address                    https://10.244.0.33:8200\n",
      "Performance Standby Node               true\n",
      "Performance Standby Last Remote WAL    35\n",
      "Raft Committed Index                   112\n",
      "Raft Applied Index                     112\n"
     ]
    }
   ],
   "source": [
    "%%bash\n",
    "kubectl exec -n $VAULT_K8S_NAMESPACE -ti vault-1 -- vault status"
   ]
  },
  {
   "cell_type": "code",
   "execution_count": 112,
   "metadata": {},
   "outputs": [
    {
     "name": "stderr",
     "output_type": "stream",
     "text": [
      "Unable to use a TTY - input is not a terminal or the right kind of file\n"
     ]
    },
    {
     "name": "stdout",
     "output_type": "stream",
     "text": [
      "Source: /vault/license/license (path from the VAULT_LICENSE_PATH environment variable)\n",
      "Product: vault\n",
      "License ID: 152295e1-3784-2641-bd01-bfdbc0a37c35\n",
      "Customer ID: d9a6d7e8-e947-ea92-ec07-82c6901283c1\n",
      "Installation ID: *\n",
      "Issue Time: 2022-12-19 08:50:24.624461496 +0000 UTC\n",
      "Start Time: 2022-12-19 00:00:00 +0000 UTC\n",
      "Expiration Time: 2023-12-19 23:59:59.999 +0000 UTC\n",
      "Termination Time: 2023-12-19 23:59:59.999 +0000 UTC\n",
      "{\"license_id\":\"152295e1-3784-2641-bd01-bfdbc0a37c35\",\"customer_id\":\"d9a6d7e8-e947-ea92-ec07-82c6901283c1\",\"installation_id\":\"*\",\"issue_time\":\"2022-12-19T08:50:24.624461496Z\",\"start_time\":\"2022-12-19T00:00:00Z\",\"expiration_time\":\"2023-12-19T23:59:59.999Z\",\"termination_time\":\"2023-12-19T23:59:59.999Z\",\"flags\":{\"modules\":[\"multi-dc-scale\",\"governance-policy\",\"advanced-data-protection-transform\",\"advanced-data-protection-key-management\"]},\"features\":[\"HSM\",\"Performance Replication\",\"DR Replication\",\"MFA\",\"Sentinel\",\"Seal Wrapping\",\"Control Groups\",\"Performance Standby\",\"Namespaces\",\"KMIP\",\"Entropy Augmentation\",\"Transform Secrets Engine\",\"Lease Count Quotas\",\"Key Management Secrets Engine\",\"Automated Snapshots\",\"Key Management Transparent Data Encryption\"],\"performance_standby_count\":9999}\n",
      "\n",
      "License is valid\n"
     ]
    }
   ],
   "source": [
    "%%bash\n",
    "kubectl exec -n $VAULT_K8S_NAMESPACE -ti vault-1 --  vault license inspect"
   ]
  },
  {
   "cell_type": "code",
   "execution_count": 113,
   "metadata": {},
   "outputs": [
    {
     "name": "stderr",
     "output_type": "stream",
     "text": [
      "Unable to use a TTY - input is not a terminal or the right kind of file\n"
     ]
    },
    {
     "name": "stdout",
     "output_type": "stream",
     "text": [
      "Key                                    Value\n",
      "---                                    -----\n",
      "Seal Type                              shamir\n",
      "Initialized                            true\n",
      "Sealed                                 false\n",
      "Total Shares                           1\n",
      "Threshold                              1\n",
      "Version                                1.14.1+ent\n",
      "Build Date                             2023-07-21T23:04:42Z\n",
      "Storage Type                           raft\n",
      "Cluster Name                           vault-primary\n",
      "Cluster ID                             05bbde01-1126-e523-c9c1-87fa4b229ced\n",
      "HA Enabled                             true\n",
      "HA Cluster                             https://vault-0.vault-internal:8201\n",
      "HA Mode                                standby\n",
      "Active Node Address                    https://10.244.0.33:8200\n",
      "Performance Standby Node               true\n",
      "Performance Standby Last Remote WAL    35\n",
      "Raft Committed Index                   114\n",
      "Raft Applied Index                     114\n"
     ]
    }
   ],
   "source": [
    "%%bash\n",
    "kubectl exec -n $VAULT_K8S_NAMESPACE -ti vault-2 -- vault status"
   ]
  },
  {
   "cell_type": "code",
   "execution_count": 114,
   "metadata": {},
   "outputs": [
    {
     "name": "stderr",
     "output_type": "stream",
     "text": [
      "Unable to use a TTY - input is not a terminal or the right kind of file\n"
     ]
    },
    {
     "name": "stdout",
     "output_type": "stream",
     "text": [
      "Source: /vault/license/license (path from the VAULT_LICENSE_PATH environment variable)\n",
      "Product: vault\n",
      "License ID: 152295e1-3784-2641-bd01-bfdbc0a37c35\n",
      "Customer ID: d9a6d7e8-e947-ea92-ec07-82c6901283c1\n",
      "Installation ID: *\n",
      "Issue Time: 2022-12-19 08:50:24.624461496 +0000 UTC\n",
      "Start Time: 2022-12-19 00:00:00 +0000 UTC\n",
      "Expiration Time: 2023-12-19 23:59:59.999 +0000 UTC\n",
      "Termination Time: 2023-12-19 23:59:59.999 +0000 UTC\n",
      "{\"license_id\":\"152295e1-3784-2641-bd01-bfdbc0a37c35\",\"customer_id\":\"d9a6d7e8-e947-ea92-ec07-82c6901283c1\",\"installation_id\":\"*\",\"issue_time\":\"2022-12-19T08:50:24.624461496Z\",\"start_time\":\"2022-12-19T00:00:00Z\",\"expiration_time\":\"2023-12-19T23:59:59.999Z\",\"termination_time\":\"2023-12-19T23:59:59.999Z\",\"flags\":{\"modules\":[\"multi-dc-scale\",\"governance-policy\",\"advanced-data-protection-transform\",\"advanced-data-protection-key-management\"]},\"features\":[\"HSM\",\"Performance Replication\",\"DR Replication\",\"MFA\",\"Sentinel\",\"Seal Wrapping\",\"Control Groups\",\"Performance Standby\",\"Namespaces\",\"KMIP\",\"Entropy Augmentation\",\"Transform Secrets Engine\",\"Lease Count Quotas\",\"Key Management Secrets Engine\",\"Automated Snapshots\",\"Key Management Transparent Data Encryption\"],\"performance_standby_count\":9999}\n",
      "\n",
      "License is valid\n"
     ]
    }
   ],
   "source": [
    "%%bash\n",
    "kubectl exec -n $VAULT_K8S_NAMESPACE -ti vault-2 --  vault license inspect"
   ]
  },
  {
   "cell_type": "markdown",
   "metadata": {},
   "source": [
    "## Get Root Token and port forward to Vault on port 8200"
   ]
  },
  {
   "cell_type": "code",
   "execution_count": 115,
   "metadata": {},
   "outputs": [
    {
     "name": "stdout",
     "output_type": "stream",
     "text": [
      "hvs.GCphLytwg7w3Knw3P69mSRu6\n"
     ]
    }
   ],
   "source": [
    "%%bash\n",
    "cat ${WORKDIR}/cluster-keys.json | jq -r \".root_token\""
   ]
  },
  {
   "cell_type": "code",
   "execution_count": 116,
   "metadata": {},
   "outputs": [
    {
     "name": "stdout",
     "output_type": "stream",
     "text": [
      "Forwarding from 127.0.0.1:8200 -> 8200\n",
      "Forwarding from [::1]:8200 -> 8200\n",
      "Handling connection for 8200\n",
      "Handling connection for 8200\n",
      "Handling connection for 8200\n",
      "Handling connection for 8200\n",
      "Handling connection for 8200\n",
      "Handling connection for 8200\n",
      "Handling connection for 8200\n",
      "Handling connection for 8200\n"
     ]
    }
   ],
   "source": [
    "%%bash\n",
    "#kubectl -n $VAULT_K8S_NAMESPACE get service vault\n",
    "kubectl -n vault port-forward service/vault 8200:8200"
   ]
  },
  {
   "cell_type": "markdown",
   "metadata": {},
   "source": [
    "## if port already open\n",
    "### sudo lsof -i :8200\n",
    "### sudo kill -9  PID"
   ]
  },
  {
   "cell_type": "code",
   "execution_count": null,
   "metadata": {},
   "outputs": [],
   "source": [
    "%%bash\n",
    "minikube delete -p dc1"
   ]
  }
 ],
 "metadata": {
  "kernelspec": {
   "display_name": "Python 3 (ipykernel)",
   "language": "python",
   "name": "python3"
  },
  "language_info": {
   "codemirror_mode": {
    "name": "ipython",
    "version": 3
   },
   "file_extension": ".py",
   "mimetype": "text/x-python",
   "name": "python",
   "nbconvert_exporter": "python",
   "pygments_lexer": "ipython3",
   "version": "3.9.6"
  },
  "vscode": {
   "interpreter": {
    "hash": "31f2aee4e71d21fbe5cf8b01ff0e069b9275f58929596ceb00d14d90e3e16cd6"
   }
  }
 },
 "nbformat": 4,
 "nbformat_minor": 2
}
